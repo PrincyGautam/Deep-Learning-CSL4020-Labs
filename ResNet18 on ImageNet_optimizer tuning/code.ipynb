{
  "cells": [
    {
      "cell_type": "markdown",
      "metadata": {
        "id": "VDZDLpCGBN4K"
      },
      "source": [
        "ROLL NO.: B20BB051\n",
        "\n",
        "X = STL 10"
      ]
    },
    {
      "cell_type": "code",
      "execution_count": null,
      "metadata": {
        "id": "DPqzH3VsBJGq"
      },
      "outputs": [],
      "source": [
        "import torch\n",
        "import torch.nn as nn\n",
        "import torch.optim as optim\n",
        "import torchvision.models as models\n",
        "import torchvision.datasets as datasets\n",
        "import torchvision.transforms as transforms"
      ]
    },
    {
      "cell_type": "code",
      "source": [
        "# on GPU\n",
        "device= 'cuda:0'"
      ],
      "metadata": {
        "id": "gKcnWWrNo-8s"
      },
      "execution_count": null,
      "outputs": []
    },
    {
      "cell_type": "code",
      "execution_count": null,
      "metadata": {
        "id": "PWCd89adBqbO"
      },
      "outputs": [],
      "source": [
        "# define the batch size for dataloader\n",
        "batch_size = 64"
      ]
    },
    {
      "cell_type": "code",
      "execution_count": null,
      "metadata": {
        "id": "xsHQfe29B0gO"
      },
      "outputs": [],
      "source": [
        "# Define the transforms for the training and test sets\n",
        "train_transform = transforms.Compose([\n",
        "    transforms.Resize(256),\n",
        "    transforms.CenterCrop(224),\n",
        "    #transforms.RandomCrop(64, padding=8),\n",
        "    #transforms.RandomHorizontalFlip(),\n",
        "    transforms.ToTensor(),\n",
        "    transforms.Normalize(mean=[0.485, 0.456, 0.406],\n",
        "                         std=[0.229, 0.224, 0.225])\n",
        "])"
      ]
    },
    {
      "cell_type": "code",
      "execution_count": null,
      "metadata": {
        "id": "3lABlMzzFHb_"
      },
      "outputs": [],
      "source": [
        "# define the transform for the test set\n",
        "test_transform = transforms.Compose([\n",
        "    transforms.ToTensor(),\n",
        "    transforms.Normalize(mean = [0.485, 0.456, 0.406],\n",
        "                         std = [0.229, 0.224, 0.225])\n",
        "])"
      ]
    },
    {
      "cell_type": "code",
      "execution_count": null,
      "metadata": {
        "id": "JtR6AGDFFfKy"
      },
      "outputs": [],
      "source": [
        "# Load the STL10 dataset using PyTorch's DataLoader\n",
        "train_dataset = datasets.STL10(root='./data', split='train', download=True, transform=train_transform)\n",
        "train_loader = torch.utils.data.DataLoader(train_dataset, batch_size=batch_size, shuffle=True)\n",
        "\n",
        "test_dataset = datasets.STL10(root='./data', split='test', download=True, transform=test_transform)\n",
        "test_loader = torch.utils.data.DataLoader(test_dataset, batch_size=batch_size, shuffle=False)"
      ]
    },
    {
      "cell_type": "code",
      "execution_count": null,
      "metadata": {
        "id": "qU8Q26AZHtPK"
      },
      "outputs": [],
      "source": [
        "# load the pre-trained ResNet18 model and replace the last fully connected layer with a new one\n",
        "model = models.resnet18(pretrained=True)\n",
        "num_features = model.fc.in_features\n",
        "model.fc = nn.Linear(num_features, 10)"
      ]
    },
    {
      "cell_type": "code",
      "source": [
        "# Move model to GPU\n",
        "model = model.to(device)"
      ],
      "metadata": {
        "id": "PwPDVZlSpIVc"
      },
      "execution_count": null,
      "outputs": []
    },
    {
      "cell_type": "code",
      "execution_count": null,
      "metadata": {
        "id": "GnRfvwQXJzi8"
      },
      "outputs": [],
      "source": [
        "# define the loss function and the 3 optimizers\n",
        "criterion = nn.CrossEntropyLoss()\n",
        "\n",
        "optimizer1 = optim.Adam(model.parameters(), lr = 0.001)\n",
        "optimizer2 = optim.Adagrad(model.parameters(), lr = 0.01)\n",
        "optimizer3 = optim.RMSprop(model.parameters(), lr = 0.001)"
      ]
    },
    {
      "cell_type": "code",
      "source": [
        "# define the Adam optimizer with varying learning rates and beta coefficients\n",
        "optimizer_adam1 = optim.Adam(model.parameters(), lr=0.001, betas=(0.9, 0.999))\n",
        "optimizer_adam2 = optim.Adam(model.parameters(), lr=0.01, betas=(0.9, 0.999))\n",
        "optimizer_adam3 = optim.Adam(model.parameters(), lr=0.001, betas=(0.95, 0.999))\n",
        "optimizer_adam4 = optim.Adam(model.parameters(), lr=0.001, betas=(0.9, 0.99))\n",
        "\n",
        "# varying attributes of Adagrad optimizer\n",
        "optimizer_adagrad1 = optim.Adagrad(model.parameters(), lr=0.01, weight_decay=0.01, initial_accumulator_value=0.1)\n",
        "optimizer_adagrad2 = optim.Adagrad(model.parameters(), lr=0.001, weight_decay=0.001, initial_accumulator_value=0.01)\n",
        "optimizer_adagrad3 = optim.Adagrad(model.parameters(), lr=0.0001, weight_decay=0.0001, initial_accumulator_value=0.0001)\n",
        "\n",
        "\n",
        "# varying attributes of RMSprop optimizer\n",
        "optimizer_rms1 = optim.RMSprop(model.parameters(), lr=0.01, alpha=0.9, weight_decay=0.01)\n",
        "optimizer_rms2 = optim.RMSprop(model.parameters(), lr=0.001, alpha=0.95, weight_decay=0.001)\n",
        "optimizer_rms3 = optim.RMSprop(model.parameters(), lr=0.0001, alpha=0.99, weight_decay=0.0001)"
      ],
      "metadata": {
        "id": "7AzLZFrl3O8C"
      },
      "execution_count": null,
      "outputs": []
    },
    {
      "cell_type": "code",
      "execution_count": null,
      "metadata": {
        "id": "_h7RGylQSxKZ"
      },
      "outputs": [],
      "source": [
        "# define the number of epochs to train for\n",
        "num_epochs = 10"
      ]
    },
    {
      "cell_type": "code",
      "execution_count": null,
      "metadata": {
        "id": "-SJJPRQBSzll"
      },
      "outputs": [],
      "source": [
        "# define empty lists to store the training loss and accuracy for each epoch\n",
        "train_loss1 = []\n",
        "train_loss2 = []\n",
        "train_loss3 = []\n",
        "train_acc1 = []\n",
        "train_acc2 = []\n",
        "train_acc3 = []"
      ]
    },
    {
      "cell_type": "code",
      "execution_count": null,
      "metadata": {
        "id": "u6enOsU8KYpS"
      },
      "outputs": [],
      "source": [
        "# train the model with optimizer1\n",
        "for epoch in range(num_epochs):\n",
        "    running_loss = 0.0\n",
        "    running_corrects = 0\n",
        "    model.train()  # Set the model to training mode\n",
        "    \n",
        "    for images, labels in train_loader:\n",
        "      \n",
        "        images = images.to(device)\n",
        "        labels = labels.to(device)\n",
        "\n",
        "        optimizer1.zero_grad()  # Zero the gradients\n",
        "        outputs = model(images)  # Forward pass\n",
        "        loss = criterion(outputs, labels)  # Compute the loss\n",
        "        _, preds = torch.max(outputs, 1)  # Compute the predictions\n",
        "\n",
        "        loss.backward()  # Backward pass\n",
        "        optimizer1.step()  # Update the parameters\n",
        "\n",
        "        running_loss += loss.item() * images.size(0)\n",
        "        running_corrects += torch.sum(preds == labels.data)\n",
        "\n",
        "    epoch_loss = running_loss / len(train_dataset)\n",
        "    epoch_acc = running_corrects.double() / len(train_dataset)\n",
        "\n",
        "    # Append the training loss and accuracy to the lists\n",
        "    train_loss1.append(epoch_loss)\n",
        "    train_acc1.append(epoch_acc)\n",
        "\n",
        "    print('Epoch [{}/{}], Loss: {:.4f}, Accuracy: {:.4f}'.format(epoch+1, num_epochs, epoch_loss, epoch_acc))"
      ]
    },
    {
      "cell_type": "code",
      "execution_count": null,
      "metadata": {
        "id": "-rN3tY7xTBWo"
      },
      "outputs": [],
      "source": [
        "# train the model with optimizer2\n",
        "for epoch in range(num_epochs):\n",
        "    running_loss = 0.0\n",
        "    running_corrects = 0\n",
        "    model.train() # Set the model to training mode\n",
        "\n",
        "    for images, labels in train_loader:\n",
        "        images = images.to(device)\n",
        "        labels = labels.to(device)\n",
        "\n",
        "        optimizer2.zero_grad() # Zero the gradients\n",
        "        outputs = model(images) # Forward pass\n",
        "        loss = criterion(outputs, labels) # Compute the loss\n",
        "        _, preds = torch.max(outputs, 1) # Compute the predictions\n",
        "        \n",
        "        loss.backward() # Backward pass\n",
        "        optimizer2.step() # Update the parameters\n",
        "\n",
        "        running_loss += loss.item() * images.size(0)\n",
        "        running_corrects += torch.sum(preds == labels.data)\n",
        "\n",
        "    epoch_loss = running_loss / len(train_dataset)\n",
        "    epoch_acc = running_corrects.double() / len(train_dataset)\n",
        "\n",
        "    # Append the training loss and accuracy to the lists\n",
        "    train_loss2.append(epoch_loss)\n",
        "    train_acc2.append(epoch_acc)\n",
        "\n",
        "    print('Epoch [{}/{}], Loss: {:.4f}, Accuracy: {:.4f}'.format(epoch+1, num_epochs, epoch_loss, epoch_acc))"
      ]
    },
    {
      "cell_type": "code",
      "execution_count": null,
      "metadata": {
        "id": "s2wdAO4MTmpE"
      },
      "outputs": [],
      "source": [
        "# train the model with optimizer3\n",
        "for epoch in range(num_epochs):\n",
        "    running_loss = 0.0\n",
        "    running_corrects = 0\n",
        "    model.train() # Set the model to training mode\n",
        "\n",
        "    for images, labels in train_loader:\n",
        "        images = images.to(device)\n",
        "        labels = labels.to(device)\n",
        "\n",
        "        optimizer3.zero_grad() # Zero the gradients\n",
        "        outputs = model(images) # Forward pass\n",
        "        loss = criterion(outputs, labels) # Compute the loss\n",
        "        _, preds = torch.max(outputs, 1) # Compute the predictions\n",
        "        \n",
        "        loss.backward() # Backward pass\n",
        "        optimizer3.step() # Update the parameters\n",
        "\n",
        "        running_loss += loss.item() * images.size(0)\n",
        "        running_corrects += torch.sum(preds == labels.data)\n",
        "\n",
        "    epoch_loss = running_loss / len(train_dataset)\n",
        "    epoch_acc = running_corrects.double() / len(train_dataset)\n",
        "\n",
        "    # Append the training loss and accuracy to the lists\n",
        "    train_loss3.append(epoch_loss)\n",
        "    train_acc3.append(epoch_acc)\n",
        "\n",
        "    print('Epoch [{}/{}], Loss: {:.4f}, Accuracy: {:.4f}'.format(epoch+1, num_epochs, epoch_loss, epoch_acc))"
      ]
    },
    {
      "cell_type": "code",
      "execution_count": null,
      "metadata": {
        "id": "HmxHLk2IT6jj"
      },
      "outputs": [],
      "source": [
        "# plot the training loss and accuracy curves for each optimizer.\n",
        "\n",
        "import matplotlib.pyplot as plt\n",
        "\n",
        "# Plot the training loss curves for each optimizer\n",
        "plt.plot(train_loss1, label='Adam')\n",
        "plt.plot(train_loss2, label='Adagrad')\n",
        "plt.plot(train_loss3, label='RMSprop')\n",
        "plt.xlabel('Epoch')\n",
        "plt.ylabel('Training Loss')\n",
        "plt.legend()\n",
        "plt.show()"
      ]
    },
    {
      "cell_type": "code",
      "execution_count": null,
      "metadata": {
        "id": "q7NzltpVUL-i"
      },
      "outputs": [],
      "source": [
        "# Plot the training accuracy curves for each optimizer\n",
        "plt.plot([acc.cpu().numpy() for acc in train_acc1], label='Adam')\n",
        "plt.plot([acc.cpu().numpy() for acc in train_acc2], label='Adagrad')\n",
        "plt.plot([acc.cpu().numpy() for acc in train_acc3], label='RMSprop')\n",
        "plt.xlabel('Epoch')\n",
        "plt.ylabel('Training Accuracy')\n",
        "plt.legend()\n",
        "plt.show()\n"
      ]
    },
    {
      "cell_type": "code",
      "source": [
        "#test accuracies on test set with Adam optimizer\n",
        "optimizer1 = optim.Adam(model.parameters(), lr = 0.001)\n",
        "\n",
        "# Evaluate the model on the test set with Adam optimizer\n",
        "model.eval()\n",
        "\n",
        "top5_accs_adam = []\n",
        "\n",
        "with torch.no_grad():\n",
        "    for images, labels in test_loader:\n",
        "        images = images.to(device)\n",
        "        labels = labels.to(device)\n",
        "        \n",
        "        outputs1 = model(images)\n",
        "        _, preds = torch.topk(outputs1, k=5, dim=1)\n",
        "        corrects = 0\n",
        "        for i in range(len(labels)):\n",
        "            if labels[i] in preds[i]:\n",
        "                corrects += 1\n",
        "        top5_accs_adam.append(corrects / len(labels))\n",
        "\n",
        "top5_accs_adam = sorted(top5_accs_adam, reverse=True)\n",
        "\n",
        "for i in range(5):\n",
        "    print('Top-5 Test Accuracy ({}): {:.4f}'.format(optimizer1, top5_accs_adam[i]))"
      ],
      "metadata": {
        "id": "L7ql_nEH28BH"
      },
      "execution_count": null,
      "outputs": []
    },
    {
      "cell_type": "code",
      "source": [
        "# accuracy on test set with Adagrad optimizer\n",
        "optimizer2 = optim.Adagrad(model.parameters(), lr = 0.01)\n",
        "\n",
        "# Evaluate the model on the test set with RMSprop optimizer\n",
        "model.eval()\n",
        "\n",
        "top5_accs_adagrad = []\n",
        "\n",
        "with torch.no_grad():\n",
        "    for images, labels in test_loader:\n",
        "        images = images.to(device)\n",
        "        labels = labels.to(device)\n",
        "\n",
        "        outputs2 = model(images)\n",
        "        _, preds = torch.topk(outputs2, k=5, dim=1)\n",
        "        corrects = 0\n",
        "        \n",
        "        for i in range(len(labels)):\n",
        "            if labels[i] in preds[i]:\n",
        "                corrects += 1\n",
        "        top5_accs_adagrad.append(corrects / len(labels))\n",
        "\n",
        "top5_accs_adagrad = sorted(top5_accs_adagrad, reverse=True)\n",
        "\n",
        "for i in range(5):\n",
        "    print('Top-5 Test Accuracy ({}): {:.4f}'.format(optimizer2, top5_accs_adagrad[i]))"
      ],
      "metadata": {
        "id": "Mh-F4_wG_SrJ"
      },
      "execution_count": null,
      "outputs": []
    },
    {
      "cell_type": "code",
      "source": [
        "# accuracy on test set with RMSprop optimizer\n",
        "optimizer3 = optim.RMSprop(model.parameters(), lr = 0.001)\n",
        "\n",
        "# Evaluate the model on the test set with RMSprop optimizer\n",
        "model.eval()\n",
        "\n",
        "top5_accs_rms = []\n",
        "\n",
        "with torch.no_grad():\n",
        "    for images, labels in test_loader:\n",
        "        images = images.to(device)\n",
        "        labels = labels.to(device)\n",
        "\n",
        "        outputs3 = model(images)\n",
        "        _, preds = torch.topk(outputs3, k=5, dim=1)\n",
        "        corrects = 0\n",
        "\n",
        "        for i in range(len(labels)):\n",
        "            if labels[i] in preds[i]:\n",
        "                corrects += 1\n",
        "        top5_accs_rms.append(corrects / len(labels))\n",
        "\n",
        "top5_accs_rms = sorted(top5_accs_rms, reverse=True)\n",
        "\n",
        "for i in range(5):\n",
        "    print('Top-5 Test Accuracy ({}): {:.4f}'.format(optimizer3, top5_accs_rms[i]))"
      ],
      "metadata": {
        "id": "odpLDT_dAT_m"
      },
      "execution_count": null,
      "outputs": []
    }
  ],
  "metadata": {
    "colab": {
      "provenance": []
    },
    "kernelspec": {
      "display_name": "Python 3",
      "name": "python3"
    },
    "language_info": {
      "name": "python"
    },
    "accelerator": "GPU",
    "gpuClass": "standard"
  },
  "nbformat": 4,
  "nbformat_minor": 0
}