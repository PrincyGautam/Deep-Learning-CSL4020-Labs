{
  "nbformat": 4,
  "nbformat_minor": 0,
  "metadata": {
    "colab": {
      "provenance": []
    },
    "kernelspec": {
      "name": "python3",
      "display_name": "Python 3"
    },
    "language_info": {
      "name": "python"
    },
    "gpuClass": "standard",
    "accelerator": "GPU"
  },
  "cells": [
    {
      "cell_type": "code",
      "source": [
        "import torch\n",
        "import torch.nn as nn\n",
        "import torch.optim as optim\n",
        "from torch.nn import functional as F\n",
        "from torch.utils.data import Dataset, DataLoader\n",
        "from sklearn.model_selection import train_test_split\n",
        "import pandas as pd\n",
        "import numpy as np\n",
        "!pip install torchtext\n",
        "import torchtext"
      ],
      "metadata": {
        "colab": {
          "base_uri": "https://localhost:8080/"
        },
        "id": "u6t_CSwpr0Zl",
        "outputId": "b4e41719-9b95-4a5f-a110-e6d805a14d69"
      },
      "execution_count": 40,
      "outputs": [
        {
          "output_type": "stream",
          "name": "stdout",
          "text": [
            "Looking in indexes: https://pypi.org/simple, https://us-python.pkg.dev/colab-wheels/public/simple/\n",
            "Requirement already satisfied: torchtext in /usr/local/lib/python3.8/dist-packages (0.14.1)\n",
            "Requirement already satisfied: tqdm in /usr/local/lib/python3.8/dist-packages (from torchtext) (4.64.1)\n",
            "Requirement already satisfied: torch==1.13.1 in /usr/local/lib/python3.8/dist-packages (from torchtext) (1.13.1+cu116)\n",
            "Requirement already satisfied: numpy in /usr/local/lib/python3.8/dist-packages (from torchtext) (1.22.4)\n",
            "Requirement already satisfied: requests in /usr/local/lib/python3.8/dist-packages (from torchtext) (2.25.1)\n",
            "Requirement already satisfied: typing-extensions in /usr/local/lib/python3.8/dist-packages (from torch==1.13.1->torchtext) (4.5.0)\n",
            "Requirement already satisfied: chardet<5,>=3.0.2 in /usr/local/lib/python3.8/dist-packages (from requests->torchtext) (4.0.0)\n",
            "Requirement already satisfied: idna<3,>=2.5 in /usr/local/lib/python3.8/dist-packages (from requests->torchtext) (2.10)\n",
            "Requirement already satisfied: urllib3<1.27,>=1.21.1 in /usr/local/lib/python3.8/dist-packages (from requests->torchtext) (1.26.14)\n",
            "Requirement already satisfied: certifi>=2017.4.17 in /usr/local/lib/python3.8/dist-packages (from requests->torchtext) (2022.12.7)\n"
          ]
        }
      ]
    },
    {
      "cell_type": "code",
      "source": [
        "from google.colab import files\n",
        "uploaded = files.upload()\n",
        "# here upload the zipped dataset folder (i.e. data.zip)"
      ],
      "metadata": {
        "id": "2pgx3RLUmId7"
      },
      "execution_count": null,
      "outputs": []
    },
    {
      "cell_type": "code",
      "source": [
        "!unzip data.zip"
      ],
      "metadata": {
        "id": "w2kQxJQhmyDu",
        "colab": {
          "base_uri": "https://localhost:8080/"
        },
        "outputId": "edb4de49-5dfc-4e93-b1da-23fb070b8877"
      },
      "execution_count": 42,
      "outputs": [
        {
          "output_type": "stream",
          "name": "stdout",
          "text": [
            "Archive:  data.zip\n",
            "replace data/eng-fra.txt? [y]es, [n]o, [A]ll, [N]one, [r]ename: "
          ]
        }
      ]
    },
    {
      "cell_type": "code",
      "source": [
        "import os\n",
        "\n",
        "# Define the path to the directory containing the .txt files\n",
        "directory_path = r'/content/data/names'\n",
        "\n",
        "# Initialize an empty list to store the data\n",
        "data = []\n",
        "\n",
        "# Loop through each file in the directory\n",
        "for filename in os.listdir(directory_path):\n",
        "    # Get the language name from the file name (assuming file names are in the format \"language.txt\")\n",
        "    language = os.path.splitext(filename)[0]\n",
        "    # Open the file and read in each name, stripping any whitespace or newline characters\n",
        "    with open(os.path.join(directory_path, filename), \"r\") as f:\n",
        "        for line in f:\n",
        "            # Append each name along with its language to the list\n",
        "            data.append((line.strip(), language))\n",
        "\n",
        "# Convert the list to a pandas DataFrame\n",
        "df = pd.DataFrame(data, columns=['name', 'language'])\n",
        "\n",
        "# Shuffle the DataFrame randomly\n",
        "df = df.sample(frac=1, random_state=42).reset_index(drop=True)\n",
        "\n",
        "# Split the DataFrame into train, validation, and test sets with an 80:10:10 split\n",
        "train, val, test = np.split(df, [int(0.8*len(df)), int(0.9*len(df))])\n",
        "\n",
        "# Print the number of examples in each set\n",
        "print(\"Number of examples in train set:\", len(train))\n",
        "print(\"Number of examples in validation set:\", len(val))\n",
        "print(\"Number of examples in test set:\", len(test))\n"
      ],
      "metadata": {
        "colab": {
          "base_uri": "https://localhost:8080/"
        },
        "id": "jwn8kwnmnmgN",
        "outputId": "0cc690cc-f22c-4f8e-99b8-e5a5f41c0fb3"
      },
      "execution_count": 43,
      "outputs": [
        {
          "output_type": "stream",
          "name": "stdout",
          "text": [
            "Number of examples in train set: 16059\n",
            "Number of examples in validation set: 2007\n",
            "Number of examples in test set: 2008\n"
          ]
        }
      ]
    },
    {
      "cell_type": "code",
      "source": [
        "# Define the maximum length of the input sequence\n",
        "MAX_SEQUENCE_LENGTH = 20\n",
        "\n",
        "# Define the batch size and number of epochs\n",
        "BATCH_SIZE = 64\n",
        "NUM_EPOCHS = 20"
      ],
      "metadata": {
        "id": "HFIn_sFkFiR5"
      },
      "execution_count": 44,
      "outputs": []
    },
    {
      "cell_type": "markdown",
      "source": [
        "# Preprocessing and split the data into train, val, and test (80:10:10)"
      ],
      "metadata": {
        "id": "ORFNhYsHFyUy"
      }
    },
    {
      "cell_type": "code",
      "source": [
        "import torchtext.vocab as vocab\n",
        "\n",
        "# Create a tokenizer function to split the text data into tokens\n",
        "tokenizer = torchtext.data.utils.get_tokenizer('basic_english')\n",
        "\n",
        "# Get the text data from the training set\n",
        "train_texts = train['name'].tolist()\n",
        "\n",
        "# Create a vocabulary from the training data\n",
        "vocab_data = [tokenizer(text) for text in train_texts]\n",
        "vocab = vocab.build_vocab_from_iterator(vocab_data, specials=[\"<unk>\"])\n",
        "\n",
        "# Convert the text data to integer sequences using the vocabulary\n",
        "train_sequences = [torch.tensor([vocab[token] for token in tokenizer(text)], dtype=torch.long) for text in train_texts]\n",
        "\n",
        "# For the validation and test sets, replace out-of-vocabulary words with <unk>\n",
        "val_texts = [text if all(token in vocab for token in tokenizer(text)) else \"<unk>\" for text in val['name'].tolist()]\n",
        "test_texts = [text if all(token in vocab for token in tokenizer(text)) else \"<unk>\" for text in test['name'].tolist()]\n",
        "\n",
        "val_sequences = [torch.tensor([vocab[token] for token in tokenizer(text)], dtype=torch.long) for text in val_texts]\n",
        "test_sequences = [torch.tensor([vocab[token] for token in tokenizer(text)], dtype=torch.long) for text in test_texts]\n",
        "\n",
        "# Pad the sequences to have a fixed length\n",
        "train_data = torch.nn.utils.rnn.pad_sequence(train_sequences, batch_first=True, padding_value=0)\n",
        "val_data = torch.nn.utils.rnn.pad_sequence(val_sequences, batch_first=True, padding_value=0)\n",
        "test_data = torch.nn.utils.rnn.pad_sequence(test_sequences, batch_first=True, padding_value=0)\n",
        "\n",
        "# Convert the language labels to one-hot encoded vectors\n",
        "train_labels = torch.tensor(pd.get_dummies(train['language']).values)\n",
        "val_labels = torch.tensor(pd.get_dummies(val['language']).values)\n",
        "test_labels = torch.tensor(pd.get_dummies(test['language']).values)\n",
        "\n",
        "# Create PyTorch datasets and dataloaders for the train, validation, and test sets\n",
        "train_dataset = torch.utils.data.TensorDataset(train_data, train_labels)\n",
        "train_dataloader = torch.utils.data.DataLoader(train_dataset, batch_size=BATCH_SIZE, shuffle=True)\n",
        "val_dataset = torch.utils.data.TensorDataset(val_data, val_labels)\n",
        "val_dataloader = torch.utils.data.DataLoader(val_dataset, batch_size=BATCH_SIZE, shuffle=False)\n",
        "test_dataset = torch.utils.data.TensorDataset(test_data, test_labels)\n",
        "test_dataloader = torch.utils.data.DataLoader(test_dataset, batch_size=BATCH_SIZE, shuffle=False)"
      ],
      "metadata": {
        "id": "mvt9ot1BuMX7"
      },
      "execution_count": 45,
      "outputs": []
    },
    {
      "cell_type": "markdown",
      "source": [
        "# RNN architecture"
      ],
      "metadata": {
        "id": "jfE_DzVZF9Se"
      }
    },
    {
      "cell_type": "code",
      "source": [
        "# Define a PyTorch dataset for the name language classification task\n",
        "class NameLanguageDataset(Dataset):\n",
        "    def __init__(self, data, labels, tokenizer):\n",
        "        self.data = data\n",
        "        self.labels = labels\n",
        "        self.tokenizer = tokenizer\n",
        "    \n",
        "    def __len__(self):\n",
        "        return len(self.data)\n",
        "    \n",
        "    def __getitem__(self, index):\n",
        "        # Convert the name to a sequence of integers\n",
        "        name = self.data[index]\n",
        "        sequence = self.tokenizer.texts_to_sequences([name])[0]\n",
        "        # Pad the sequence to have a fixed length\n",
        "        padded_sequence = np.zeros(MAX_SEQUENCE_LENGTH, dtype=np.int64)\n",
        "        padded_sequence[:len(sequence)] = sequence\n",
        "        # Get the label for the name\n",
        "        label = self.labels[index]\n",
        "        return torch.tensor(padded_sequence), torch.tensor(label)\n",
        "\n",
        "# Define the RNN model architecture\n",
        "class NameLanguageModel(nn.Module):\n",
        "    def __init__(self, vocab_size, num_classes):\n",
        "        super(NameLanguageModel, self).__init__()\n",
        "        self.embedding = nn.Embedding(vocab_size, 32)\n",
        "        self.lstm = nn.LSTM(32, 64, dropout=0.2, batch_first=True)\n",
        "        self.fc = nn.Linear(64, num_classes)\n",
        "        \n",
        "    def forward(self, x):\n",
        "        x = self.embedding(x)\n",
        "        output, (h_n, c_n) = self.lstm(x)\n",
        "        x = h_n[-1, :, :]\n",
        "        x = self.fc(x)\n",
        "        return x"
      ],
      "metadata": {
        "id": "qwbqV1L6sPqJ"
      },
      "execution_count": 46,
      "outputs": []
    },
    {
      "cell_type": "code",
      "source": [
        "# Define the device to use for training\n",
        "device = torch.device('cuda' if torch.cuda.is_available() else 'cpu')"
      ],
      "metadata": {
        "id": "l5ipEYXGKUjn"
      },
      "execution_count": 47,
      "outputs": []
    },
    {
      "cell_type": "code",
      "source": [
        "# Create a new instance of the model\n",
        "model = NameLanguageModel(len(vocab), len(pd.get_dummies(df['language']).columns))\n",
        "model.to(device)"
      ],
      "metadata": {
        "colab": {
          "base_uri": "https://localhost:8080/"
        },
        "id": "flW9yuYV8iTC",
        "outputId": "dceeb978-9fcb-46d7-a95d-18a0721384cb"
      },
      "execution_count": 48,
      "outputs": [
        {
          "output_type": "stream",
          "name": "stderr",
          "text": [
            "/usr/local/lib/python3.8/dist-packages/torch/nn/modules/rnn.py:67: UserWarning: dropout option adds dropout after all but last recurrent layer, so non-zero dropout expects num_layers greater than 1, but got dropout=0.2 and num_layers=1\n",
            "  warnings.warn(\"dropout option adds dropout after all but last \"\n"
          ]
        },
        {
          "output_type": "execute_result",
          "data": {
            "text/plain": [
              "NameLanguageModel(\n",
              "  (embedding): Embedding(14078, 32)\n",
              "  (lstm): LSTM(32, 64, batch_first=True, dropout=0.2)\n",
              "  (fc): Linear(in_features=64, out_features=18, bias=True)\n",
              ")"
            ]
          },
          "metadata": {},
          "execution_count": 48
        }
      ]
    },
    {
      "cell_type": "code",
      "source": [
        "# Define the loss function and optimizer\n",
        "criterion = nn.CrossEntropyLoss()\n",
        "optimizer = optim.Adam(model.parameters())"
      ],
      "metadata": {
        "id": "QrhhBGUTywak"
      },
      "execution_count": 49,
      "outputs": []
    },
    {
      "cell_type": "markdown",
      "source": [
        "# Train loss"
      ],
      "metadata": {
        "id": "HYWVgA_2HCPS"
      }
    },
    {
      "cell_type": "code",
      "source": [
        "# Create empty lists to store the training and validation losses\n",
        "train_losses = []\n",
        "\n",
        "# Train the model\n",
        "for epoch in range(NUM_EPOCHS):\n",
        "    # Set the model to train mode\n",
        "    model.train()\n",
        "    # Loop over the batches in the train dataloader\n",
        "    train_loss_epoch = 0.0\n",
        "    for batch in train_dataloader:\n",
        "        # Move the data to the device\n",
        "        inputs, labels = batch\n",
        "        inputs = inputs.to(device)\n",
        "        labels = labels.to(device)\n",
        "        # Zero the gradients\n",
        "        optimizer.zero_grad()\n",
        "        # Forward pass\n",
        "        outputs = model(inputs)\n",
        "        loss = criterion(outputs, torch.argmax(labels, dim=1))\n",
        "        # Backward pass\n",
        "        loss.backward()\n",
        "        # Update the parameters\n",
        "        optimizer.step()\n",
        "        # Compute the loss for this batch and add it to the epoch loss\n",
        "        train_loss_epoch += loss.item()\n",
        "    # Compute the average loss per batch and append it to the train_losses list\n",
        "    train_loss_epoch /= len(train_dataloader)\n",
        "    train_losses.append(train_loss_epoch)\n",
        "\n",
        "     # Print the epoch number, training loss, and validation loss and accuracy\n",
        "    print('Epoch [%d/%d] Train Loss: %.4f' % (\n",
        "        epoch+1, NUM_EPOCHS, loss.item()))"
      ],
      "metadata": {
        "colab": {
          "base_uri": "https://localhost:8080/"
        },
        "id": "MEVxsbU13gGv",
        "outputId": "8bdfa175-83d6-4391-9c68-344ba7ad4e4a"
      },
      "execution_count": 50,
      "outputs": [
        {
          "output_type": "stream",
          "name": "stdout",
          "text": [
            "Epoch [1/20] Train Loss: 1.7462\n",
            "Epoch [2/20] Train Loss: 1.8438\n",
            "Epoch [3/20] Train Loss: 1.3656\n",
            "Epoch [4/20] Train Loss: 1.6057\n",
            "Epoch [5/20] Train Loss: 1.3921\n",
            "Epoch [6/20] Train Loss: 1.5509\n",
            "Epoch [7/20] Train Loss: 1.4557\n",
            "Epoch [8/20] Train Loss: 1.4266\n",
            "Epoch [9/20] Train Loss: 1.1264\n",
            "Epoch [10/20] Train Loss: 1.2861\n",
            "Epoch [11/20] Train Loss: 1.0941\n",
            "Epoch [12/20] Train Loss: 1.0360\n",
            "Epoch [13/20] Train Loss: 1.0114\n",
            "Epoch [14/20] Train Loss: 0.8809\n",
            "Epoch [15/20] Train Loss: 0.8642\n",
            "Epoch [16/20] Train Loss: 1.1115\n",
            "Epoch [17/20] Train Loss: 0.7519\n",
            "Epoch [18/20] Train Loss: 0.6819\n",
            "Epoch [19/20] Train Loss: 1.0123\n",
            "Epoch [20/20] Train Loss: 0.3518\n"
          ]
        }
      ]
    },
    {
      "cell_type": "markdown",
      "source": [
        "# Validation loss"
      ],
      "metadata": {
        "id": "BlvOFR07HE47"
      }
    },
    {
      "cell_type": "code",
      "source": [
        "# Set the model to evaluation mode\n",
        "model.eval()\n",
        "val_losses = []\n",
        "val_loss = 0.0\n",
        "val_correct = 0\n",
        "val_total = 0\n",
        "val_preds = []\n",
        "val_targets = []\n",
        "for epoch in range(NUM_EPOCHS):\n",
        "    # Initialize variables to keep track of the validation loss and accuracy\n",
        "\n",
        "    \n",
        "    # Disable gradient computation to save memory\n",
        "    with torch.no_grad():\n",
        "        # Loop over the batches in the validation dataloader\n",
        "        for batch in val_dataloader:\n",
        "            # Move the data to the device\n",
        "            inputs, labels = batch\n",
        "            inputs = inputs.to(device)\n",
        "            labels = labels.to(device)\n",
        "            # Forward pass\n",
        "            outputs = model(inputs)\n",
        "            loss = criterion(outputs, torch.argmax(labels, dim=1))\n",
        "            val_loss += loss.item() * inputs.size(0)\n",
        "            # Compute the accuracy\n",
        "            _, predicted = torch.max(outputs.data, 1)\n",
        "            val_total += labels.size(0)\n",
        "            val_correct += (predicted == torch.argmax(labels, dim=1)).sum().item()\n",
        "            # Collect the predictions and targets\n",
        "            val_preds += predicted.cpu().numpy().tolist()\n",
        "            val_targets += torch.argmax(labels, dim=1).cpu().numpy().tolist()\n",
        "\n",
        "    # Compute the validation loss and accuracy\n",
        "    val_loss /= len(val_dataset)\n",
        "    val_accuracy = val_correct / val_total\n",
        "    val_losses.append(val_loss)\n",
        "    # Print the validation loss and accuracy\n",
        "    print('Validation Loss: %.4f Validation Accuracy: %.4f' % (val_loss, val_accuracy))"
      ],
      "metadata": {
        "colab": {
          "base_uri": "https://localhost:8080/"
        },
        "id": "18KPT427BgUd",
        "outputId": "32a3994e-ddbe-4820-c13f-1d313eda6323"
      },
      "execution_count": 51,
      "outputs": [
        {
          "output_type": "stream",
          "name": "stdout",
          "text": [
            "Validation Loss: 2.9929 Validation Accuracy: 0.5615\n",
            "Validation Loss: 2.9944 Validation Accuracy: 0.5615\n",
            "Validation Loss: 2.9944 Validation Accuracy: 0.5615\n",
            "Validation Loss: 2.9944 Validation Accuracy: 0.5615\n",
            "Validation Loss: 2.9944 Validation Accuracy: 0.5615\n",
            "Validation Loss: 2.9944 Validation Accuracy: 0.5615\n",
            "Validation Loss: 2.9944 Validation Accuracy: 0.5615\n",
            "Validation Loss: 2.9944 Validation Accuracy: 0.5615\n",
            "Validation Loss: 2.9944 Validation Accuracy: 0.5615\n",
            "Validation Loss: 2.9944 Validation Accuracy: 0.5615\n",
            "Validation Loss: 2.9944 Validation Accuracy: 0.5615\n",
            "Validation Loss: 2.9944 Validation Accuracy: 0.5615\n",
            "Validation Loss: 2.9944 Validation Accuracy: 0.5615\n",
            "Validation Loss: 2.9944 Validation Accuracy: 0.5615\n",
            "Validation Loss: 2.9944 Validation Accuracy: 0.5615\n",
            "Validation Loss: 2.9944 Validation Accuracy: 0.5615\n",
            "Validation Loss: 2.9944 Validation Accuracy: 0.5615\n",
            "Validation Loss: 2.9944 Validation Accuracy: 0.5615\n",
            "Validation Loss: 2.9944 Validation Accuracy: 0.5615\n",
            "Validation Loss: 2.9944 Validation Accuracy: 0.5615\n"
          ]
        }
      ]
    },
    {
      "cell_type": "code",
      "source": [
        "# Define a high initial value for best validation loss\n",
        "best_val_loss = float('inf')\n",
        "# Save the best model\n",
        "if val_loss < best_val_loss:\n",
        "    best_val_loss = val_loss\n",
        "    torch.save(model.state_dict(), 'best_model.pth')"
      ],
      "metadata": {
        "id": "kha0WuZt3qwQ"
      },
      "execution_count": 52,
      "outputs": []
    },
    {
      "cell_type": "code",
      "source": [
        "# Load the saved state dictionary\n",
        "state_dict = torch.load('best_model.pth', map_location=device)"
      ],
      "metadata": {
        "id": "fbZfx5wc8X3z"
      },
      "execution_count": 53,
      "outputs": []
    },
    {
      "cell_type": "markdown",
      "source": [
        "# Epoch vs. loss curves for training and validation data"
      ],
      "metadata": {
        "id": "hFFOiL7kGNDX"
      }
    },
    {
      "cell_type": "code",
      "source": [
        "import matplotlib.pyplot as plt\n",
        "# Plot the epoch vs. loss curves\n",
        "plt.plot(range(1, NUM_EPOCHS+1), train_losses, label='Train')\n",
        "plt.plot(range(1, NUM_EPOCHS+1), val_losses, label='Val')\n",
        "plt.xlabel('Epoch')\n",
        "plt.ylabel('Loss')\n",
        "plt.legend()\n",
        "plt.show()\n"
      ],
      "metadata": {
        "colab": {
          "base_uri": "https://localhost:8080/",
          "height": 279
        },
        "id": "Ah-BNQ1l0KiF",
        "outputId": "6e8d618b-e5df-48c6-f6fb-0f6c736da0c1"
      },
      "execution_count": 54,
      "outputs": [
        {
          "output_type": "display_data",
          "data": {
            "text/plain": [
              "<Figure size 432x288 with 1 Axes>"
            ],
            "image/png": "[encoded data removed]"
          },
          "metadata": {
            "needs_background": "light"
          }
        }
      ]
    },
    {
      "cell_type": "markdown",
      "source": [
        "# Test accuracy"
      ],
      "metadata": {
        "id": "5kkFnDVzGp_1"
      }
    },
    {
      "cell_type": "code",
      "source": [
        "# Evaluate the model on the test set\n",
        "test_loss = 0.0\n",
        "test_correct = 0\n",
        "test_total = 0\n",
        "with torch.no_grad():\n",
        "    # Loop over the batches in the test dataloader\n",
        "    for batch in test_dataloader:\n",
        "        # Move the data to the device\n",
        "        inputs, labels = batch\n",
        "        inputs = inputs.to(device)\n",
        "        labels = labels.to(device)\n",
        "        # Forward pass\n",
        "        outputs = model(inputs)\n",
        "        loss = criterion(outputs, torch.argmax(labels, dim=1))\n",
        "        test_loss += loss.item() * inputs.size(0)\n",
        "        # Compute the accuracy\n",
        "        _, predicted = torch.max(outputs.data, 1)\n",
        "        test_total += labels.size(0)\n",
        "        test_correct += (predicted == torch.argmax(labels, dim=1)).sum().item()\n",
        "# Compute the test loss and accuracy\n",
        "test_loss /= len(test_dataset)\n",
        "test_accuracy = test_correct / test_total\n",
        "print(\"Test Loss: %.4f Test Acc: %.4f\" % (test_loss, test_accuracy))"
      ],
      "metadata": {
        "colab": {
          "base_uri": "https://localhost:8080/"
        },
        "id": "u7Vg2yHVzlTQ",
        "outputId": "13a0b274-e3d8-499b-8545-166408dbba99"
      },
      "execution_count": 55,
      "outputs": [
        {
          "output_type": "stream",
          "name": "stdout",
          "text": [
            "Test Loss: 2.9688 Test Acc: 0.5657\n"
          ]
        }
      ]
    },
    {
      "cell_type": "markdown",
      "source": [
        "# Obtain a Confusion Matrix on validation data for your best model"
      ],
      "metadata": {
        "id": "JcojIoVkGVGk"
      }
    },
    {
      "cell_type": "code",
      "source": [
        "from sklearn.metrics import confusion_matrix\n",
        "# Compute and print the confusion matrix\n",
        "cm = confusion_matrix(val_targets, val_preds)\n",
        "print('Confusion Matrix:')\n",
        "print(cm)"
      ],
      "metadata": {
        "colab": {
          "base_uri": "https://localhost:8080/"
        },
        "id": "fwUYn_uCCdUg",
        "outputId": "279fefea-a2ad-4f6c-e7c8-617ca56762fe"
      },
      "execution_count": 56,
      "outputs": [
        {
          "output_type": "stream",
          "name": "stdout",
          "text": [
            "Confusion Matrix:\n",
            "[[ 3900     0     0     0     0     0     0     0     0     0     0     0\n",
            "      0     0     0     0     0     0]\n",
            " [    0   120    20     0    40     0    20     0     0    20    20     0\n",
            "      0     0   400     0     0     0]\n",
            " [    0     0     0     0    20     0    20    20     0     0    20     0\n",
            "      0     0  1020     0     0     0]\n",
            " [    0     0     0     0    20     0    20     0     0     0    20     0\n",
            "      0     0   400     0     0     0]\n",
            " [    0   100    40     0   100    20   140    40    20    20    20     0\n",
            "      0     0  6780     0    40     0]\n",
            " [    0     0     0     0    60     0     0     0     0     0    40     0\n",
            "      0     0   540     0     0     0]\n",
            " [    0     0     0    20    60     0     0     0    20     0     0     0\n",
            "      0     0  1260     0     0     0]\n",
            " [    0     0     0     0     0     0     0    20     0     0     0     0\n",
            "      0     0   520     0     0     0]\n",
            " [    0     0     0     0    20     0     0     0    80     0     0     0\n",
            "      0     0   300     0     0     0]\n",
            " [    0     0     0     0     0    20    40     0     0    60    20     0\n",
            "      0     0  1500     0    60     0]\n",
            " [    0     0     0     0     0     0     0     0     0     0     0     0\n",
            "      0     0  2120     0     0     0]\n",
            " [    0    40     0     0     0     0    20     0     0    20    20     0\n",
            "      0     0   120     0     0     0]\n",
            " [    0     0     0     0     0     0     0     0     0     0     0     0\n",
            "      0     0   200     0     0     0]\n",
            " [    0     0    20     0    60     0     0     0     0    40    20     0\n",
            "      0     0    80     0     0     0]\n",
            " [    0    20     0     0    40     0     0     0    20     0    20     0\n",
            "      0     0 18260     0     0     0]\n",
            " [    0     0     0     0   180     0     0     0     0     0     0     0\n",
            "      0     0    80     0     0     0]\n",
            " [    0     0    20     0    40     0    40     0     0     0     0     0\n",
            "      0     0   500     0     0     0]\n",
            " [    0     0     0     0     0     0    20     0     0     0    20     0\n",
            "      0     0    60     0     0     0]]\n"
          ]
        }
      ]
    },
    {
      "cell_type": "markdown",
      "source": [
        "# RNN architecture 2 (more FCs)"
      ],
      "metadata": {
        "id": "6YJgRg2FIqcS"
      }
    },
    {
      "cell_type": "code",
      "source": [
        "# Define a PyTorch dataset for the name language classification task\n",
        "class NameLanguageDataset(Dataset):\n",
        "    def __init__(self, data, labels, tokenizer):\n",
        "        self.data = data\n",
        "        self.labels = labels\n",
        "        self.tokenizer = tokenizer\n",
        "    \n",
        "    def __len__(self):\n",
        "        return len(self.data)\n",
        "    \n",
        "    def __getitem__(self, index):\n",
        "        # Convert the name to a sequence of integers\n",
        "        name = self.data[index]\n",
        "        sequence = self.tokenizer.texts_to_sequences([name])[0]\n",
        "        # Pad the sequence to have a fixed length\n",
        "        padded_sequence = np.zeros(MAX_SEQUENCE_LENGTH, dtype=np.int64)\n",
        "        padded_sequence[:len(sequence)] = sequence\n",
        "        # Get the label for the name\n",
        "        label = self.labels[index]\n",
        "        return torch.tensor(padded_sequence), torch.tensor(label)\n",
        "\n",
        "# Define the RNN model architecture\n",
        "class NameLanguageModel2(nn.Module):\n",
        "    def __init__(self, vocab_size, num_classes):\n",
        "        super(NameLanguageModel2, self).__init__()\n",
        "        self.embedding = nn.Embedding(vocab_size, 32)\n",
        "        self.lstm = nn.LSTM(32, 64, dropout=0.2, batch_first=True)\n",
        "        self.fc1 = nn.Linear(64, 128)\n",
        "        self.fc2 = nn.Linear(128, 64)\n",
        "        self.fc3 = nn.Linear(64, 32)\n",
        "        self.fc4 = nn.Linear(32, num_classes)\n",
        "        \n",
        "    def forward(self, x):\n",
        "        x = self.embedding(x)\n",
        "        output, (h_n, c_n) = self.lstm(x)\n",
        "        x = h_n[-1, :, :]\n",
        "        x = F.relu(self.fc1(x))\n",
        "        x = F.relu(self.fc2(x))\n",
        "        x = F.relu(self.fc3(x))\n",
        "        x = self.fc4(x)\n",
        "        return x"
      ],
      "metadata": {
        "id": "T25BbfQxHZmh"
      },
      "execution_count": 57,
      "outputs": []
    },
    {
      "cell_type": "code",
      "source": [
        "# Create a new instance of the model\n",
        "model2 = NameLanguageModel2(len(vocab), len(pd.get_dummies(df['language']).columns))\n",
        "model2.to(device)"
      ],
      "metadata": {
        "colab": {
          "base_uri": "https://localhost:8080/"
        },
        "id": "mgsF1MMcJ66_",
        "outputId": "1f24422f-2ed5-4227-d7ba-7499f2c017ce"
      },
      "execution_count": 58,
      "outputs": [
        {
          "output_type": "stream",
          "name": "stderr",
          "text": [
            "/usr/local/lib/python3.8/dist-packages/torch/nn/modules/rnn.py:67: UserWarning: dropout option adds dropout after all but last recurrent layer, so non-zero dropout expects num_layers greater than 1, but got dropout=0.2 and num_layers=1\n",
            "  warnings.warn(\"dropout option adds dropout after all but last \"\n"
          ]
        },
        {
          "output_type": "execute_result",
          "data": {
            "text/plain": [
              "NameLanguageModel2(\n",
              "  (embedding): Embedding(14078, 32)\n",
              "  (lstm): LSTM(32, 64, batch_first=True, dropout=0.2)\n",
              "  (fc1): Linear(in_features=64, out_features=128, bias=True)\n",
              "  (fc2): Linear(in_features=128, out_features=64, bias=True)\n",
              "  (fc3): Linear(in_features=64, out_features=32, bias=True)\n",
              "  (fc4): Linear(in_features=32, out_features=18, bias=True)\n",
              ")"
            ]
          },
          "metadata": {},
          "execution_count": 58
        }
      ]
    },
    {
      "cell_type": "code",
      "source": [
        "# Define the loss function and optimizer\n",
        "criterion = nn.CrossEntropyLoss()\n",
        "optimizer2 = optim.Adam(model2.parameters())"
      ],
      "metadata": {
        "id": "0Uw3ZE3sLiqy"
      },
      "execution_count": 59,
      "outputs": []
    },
    {
      "cell_type": "markdown",
      "source": [
        "# Train loss"
      ],
      "metadata": {
        "id": "_4nNgGs5OIYT"
      }
    },
    {
      "cell_type": "code",
      "source": [
        "# Create empty lists to store the training and validation losses\n",
        "train_losses2 = []\n",
        "\n",
        "# Train the model\n",
        "for epoch in range(NUM_EPOCHS):\n",
        "    # Set the model to train mode\n",
        "    model2.train()\n",
        "    # Loop over the batches in the train dataloader\n",
        "    train_loss_epoch2 = 0.0\n",
        "    for batch in train_dataloader:\n",
        "        # Move the data to the device\n",
        "        inputs, labels = batch\n",
        "        inputs = inputs.to(device)\n",
        "        labels = labels.to(device)\n",
        "        # Zero the gradients\n",
        "        optimizer2.zero_grad()\n",
        "        # Forward pass\n",
        "        outputs2 = model2(inputs)\n",
        "        loss2 = criterion(outputs2, torch.argmax(labels, dim=1))\n",
        "        # Backward pass\n",
        "        loss2.backward()\n",
        "        # Update the parameters\n",
        "        optimizer2.step()\n",
        "        # Compute the loss for this batch and add it to the epoch loss\n",
        "        train_loss_epoch2 += loss2.item()\n",
        "    # Compute the average loss per batch and append it to the train_losses list\n",
        "    train_loss_epoch2 /= len(train_dataloader)\n",
        "    train_losses2.append(train_loss_epoch2)\n",
        "\n",
        "     # Print the epoch number, training loss, and validation loss and accuracy\n",
        "    print('Epoch [%d/%d] Train Loss: %.4f' % (\n",
        "        epoch+1, NUM_EPOCHS, loss2.item()))"
      ],
      "metadata": {
        "colab": {
          "base_uri": "https://localhost:8080/"
        },
        "id": "nNxipwpeLvVB",
        "outputId": "ba02faa6-27db-4933-e973-78eb25b2fe0a"
      },
      "execution_count": 60,
      "outputs": [
        {
          "output_type": "stream",
          "name": "stdout",
          "text": [
            "Epoch [1/20] Train Loss: 1.7935\n",
            "Epoch [2/20] Train Loss: 1.9878\n",
            "Epoch [3/20] Train Loss: 1.8495\n",
            "Epoch [4/20] Train Loss: 1.7255\n",
            "Epoch [5/20] Train Loss: 1.4657\n",
            "Epoch [6/20] Train Loss: 1.1255\n",
            "Epoch [7/20] Train Loss: 1.7896\n",
            "Epoch [8/20] Train Loss: 1.1753\n",
            "Epoch [9/20] Train Loss: 1.7203\n",
            "Epoch [10/20] Train Loss: 1.1361\n",
            "Epoch [11/20] Train Loss: 0.8751\n",
            "Epoch [12/20] Train Loss: 1.3637\n",
            "Epoch [13/20] Train Loss: 1.2385\n",
            "Epoch [14/20] Train Loss: 0.8729\n",
            "Epoch [15/20] Train Loss: 0.8634\n",
            "Epoch [16/20] Train Loss: 0.6929\n",
            "Epoch [17/20] Train Loss: 0.8246\n",
            "Epoch [18/20] Train Loss: 0.7597\n",
            "Epoch [19/20] Train Loss: 0.6267\n",
            "Epoch [20/20] Train Loss: 0.5132\n"
          ]
        }
      ]
    },
    {
      "cell_type": "markdown",
      "source": [
        "# Validation loss"
      ],
      "metadata": {
        "id": "VgjYylnBOLNY"
      }
    },
    {
      "cell_type": "code",
      "source": [
        "# Set the model to evaluation mode\n",
        "model2.eval()\n",
        "\n",
        "val_losses2 = []\n",
        "\n",
        "for epoch in range(NUM_EPOCHS):\n",
        "    # Initialize variables to keep track of the validation loss and accuracy\n",
        "    val_loss2 = 0.0\n",
        "    val_correct2 = 0\n",
        "    val_total2 = 0\n",
        "    val_preds2 = []\n",
        "    val_targets2 = []\n",
        "    \n",
        "    # Disable gradient computation to save memory\n",
        "    with torch.no_grad():\n",
        "        # Loop over the batches in the validation dataloader\n",
        "        for batch in val_dataloader:\n",
        "            # Move the data to the device\n",
        "            inputs, labels = batch\n",
        "            inputs = inputs.to(device)\n",
        "            labels = labels.to(device)\n",
        "            # Forward pass\n",
        "            outputs2 = model2(inputs)\n",
        "            loss2 = criterion(outputs2, torch.argmax(labels, dim=1))\n",
        "            val_loss2 += loss2.item() * inputs.size(0)\n",
        "            # Compute the accuracy\n",
        "            _2, predicted2 = torch.max(outputs2.data, 1)\n",
        "            val_total2 += labels.size(0)\n",
        "            val_correct2 += (predicted2 == torch.argmax(labels, dim=1)).sum().item()\n",
        "            # Collect the predictions and targets\n",
        "            val_preds2 += predicted2.cpu().numpy().tolist()\n",
        "            val_targets2 += torch.argmax(labels, dim=1).cpu().numpy().tolist()\n",
        "\n",
        "    # Compute the validation loss and accuracy\n",
        "    val_loss2 /= len(val_dataset)\n",
        "    val_accuracy2 = val_correct2 / val_total2\n",
        "    val_losses2.append(val_loss2)\n",
        "    # Print the validation loss and accuracy\n",
        "    print('Validation Loss: %.4f Validation Accuracy: %.4f' % (val_loss2, val_accuracy2))"
      ],
      "metadata": {
        "colab": {
          "base_uri": "https://localhost:8080/"
        },
        "id": "fJRDM8-0MQWq",
        "outputId": "0dc9d44c-f0f7-4436-a7ac-38cbdafa720e"
      },
      "execution_count": 61,
      "outputs": [
        {
          "output_type": "stream",
          "name": "stdout",
          "text": [
            "Validation Loss: 2.9041 Validation Accuracy: 0.5640\n",
            "Validation Loss: 2.9041 Validation Accuracy: 0.5640\n",
            "Validation Loss: 2.9041 Validation Accuracy: 0.5640\n",
            "Validation Loss: 2.9041 Validation Accuracy: 0.5640\n",
            "Validation Loss: 2.9041 Validation Accuracy: 0.5640\n",
            "Validation Loss: 2.9041 Validation Accuracy: 0.5640\n",
            "Validation Loss: 2.9041 Validation Accuracy: 0.5640\n",
            "Validation Loss: 2.9041 Validation Accuracy: 0.5640\n",
            "Validation Loss: 2.9041 Validation Accuracy: 0.5640\n",
            "Validation Loss: 2.9041 Validation Accuracy: 0.5640\n",
            "Validation Loss: 2.9041 Validation Accuracy: 0.5640\n",
            "Validation Loss: 2.9041 Validation Accuracy: 0.5640\n",
            "Validation Loss: 2.9041 Validation Accuracy: 0.5640\n",
            "Validation Loss: 2.9041 Validation Accuracy: 0.5640\n",
            "Validation Loss: 2.9041 Validation Accuracy: 0.5640\n",
            "Validation Loss: 2.9041 Validation Accuracy: 0.5640\n",
            "Validation Loss: 2.9041 Validation Accuracy: 0.5640\n",
            "Validation Loss: 2.9041 Validation Accuracy: 0.5640\n",
            "Validation Loss: 2.9041 Validation Accuracy: 0.5640\n",
            "Validation Loss: 2.9041 Validation Accuracy: 0.5640\n"
          ]
        }
      ]
    },
    {
      "cell_type": "code",
      "source": [
        "# Define a high initial value for best validation loss\n",
        "best_val_loss2 = float('inf')\n",
        "# Save the best model\n",
        "if val_loss2 < best_val_loss2:\n",
        "    best_val_loss2 = val_loss2\n",
        "    torch.save(model2.state_dict(), 'best_model2.pth')"
      ],
      "metadata": {
        "id": "nUiotWMJNTCl"
      },
      "execution_count": 62,
      "outputs": []
    },
    {
      "cell_type": "code",
      "source": [
        "# Load the saved state dictionary\n",
        "state_dict2 = torch.load('best_model2.pth', map_location=device)"
      ],
      "metadata": {
        "id": "xbzVejt1VEoT"
      },
      "execution_count": 63,
      "outputs": []
    },
    {
      "cell_type": "markdown",
      "source": [
        "# Epoch vs. loss curves for training and validation data"
      ],
      "metadata": {
        "id": "OC5IABLbOQpw"
      }
    },
    {
      "cell_type": "code",
      "source": [
        "import matplotlib.pyplot as plt\n",
        "# Plot the epoch vs. loss curves\n",
        "plt.plot(range(1, NUM_EPOCHS+1), train_losses2, label='Train')\n",
        "plt.plot(range(1, NUM_EPOCHS+1), val_losses2, label='Val')\n",
        "plt.xlabel('Epoch')\n",
        "plt.ylabel('Loss')\n",
        "plt.legend()\n",
        "plt.show()\n"
      ],
      "metadata": {
        "colab": {
          "base_uri": "https://localhost:8080/",
          "height": 282
        },
        "id": "43BXWw34Nl6z",
        "outputId": "c1fd562e-57bf-4750-eff0-4d2803394d60"
      },
      "execution_count": 64,
      "outputs": [
        {
          "output_type": "display_data",
          "data": {
            "text/plain": [
              "<Figure size 432x288 with 1 Axes>"
            ],
            "image/png": "[encoded data removed]"
          },
          "metadata": {
            "needs_background": "light"
          }
        }
      ]
    },
    {
      "cell_type": "markdown",
      "source": [
        "# Test accuracy 2"
      ],
      "metadata": {
        "id": "lANFSpPAOYl1"
      }
    },
    {
      "cell_type": "code",
      "source": [
        "# Evaluate the model on the test set\n",
        "test_loss2 = 0.0\n",
        "test_correct2 = 0\n",
        "test_total2 = 0\n",
        "with torch.no_grad():\n",
        "    # Loop over the batches in the test dataloader\n",
        "    for batch in test_dataloader:\n",
        "        # Move the data to the device\n",
        "        inputs, labels = batch\n",
        "        inputs = inputs.to(device)\n",
        "        labels = labels.to(device)\n",
        "        # Forward pass\n",
        "        outputs2 = model2(inputs)\n",
        "        loss2 = criterion(outputs2, torch.argmax(labels, dim=1))\n",
        "        test_loss2 += loss2.item() * inputs.size(0)\n",
        "        # Compute the accuracy\n",
        "        _2, predicted2 = torch.max(outputs2.data, 1)\n",
        "        test_total2 += labels.size(0)\n",
        "        test_correct2 += (predicted2 == torch.argmax(labels, dim=1)).sum().item()\n",
        "# Compute the test loss and accuracy\n",
        "test_loss2 /= len(test_dataset)\n",
        "test_accuracy2 = test_correct2 / test_total2\n",
        "print(\"Test Loss: %.4f Test Acc: %.4f\" % (test_loss2, test_accuracy2))"
      ],
      "metadata": {
        "colab": {
          "base_uri": "https://localhost:8080/"
        },
        "id": "IGLo5Wh_Nr2J",
        "outputId": "13a14f39-e6d8-4c98-e22b-599779e7da41"
      },
      "execution_count": 65,
      "outputs": [
        {
          "output_type": "stream",
          "name": "stdout",
          "text": [
            "Test Loss: 2.8779 Test Acc: 0.5637\n"
          ]
        }
      ]
    },
    {
      "cell_type": "markdown",
      "source": [
        "# Confusion matrix 2"
      ],
      "metadata": {
        "id": "UNQjVsSFObgI"
      }
    },
    {
      "cell_type": "code",
      "source": [
        "# Compute and print the confusion matrix\n",
        "cm2 = confusion_matrix(val_targets2, val_preds2)\n",
        "print('Confusion Matrix 2:')\n",
        "print(cm2)"
      ],
      "metadata": {
        "colab": {
          "base_uri": "https://localhost:8080/"
        },
        "id": "ThybdNamN9JJ",
        "outputId": "873c16eb-c183-4f20-f7d8-7fcef245990c"
      },
      "execution_count": 66,
      "outputs": [
        {
          "output_type": "stream",
          "name": "stdout",
          "text": [
            "Confusion Matrix 2:\n",
            "[[195   0   0   0   0   0   0   0   0   0   0   0   0   0   0   0   0   0]\n",
            " [  0   3   1   0   3   0   1   0   0   3   2   0   0   0  19   0   0   0]\n",
            " [  0   0   1   0   2   0   2   0   0   1   0   0   0   0  49   0   0   0]\n",
            " [  0   0   0   0   2   0   1   0   0   0   0   0   0   0  20   0   0   0]\n",
            " [  0   4   3   0   7   0   3   0   0   6   3   0   0   0 340   0   0   0]\n",
            " [  0   0   0   0   5   0   1   0   0   0   0   0   0   0  26   0   0   0]\n",
            " [  0   0   0   0   2   0   0   0   0   1   2   0   0   0  63   0   0   0]\n",
            " [  0   0   1   0   0   0   0   0   0   0   0   0   0   0  26   0   0   0]\n",
            " [  0   0   0   0   1   0   0   0   4   0   0   0   0   0  15   0   0   0]\n",
            " [  0   1   0   0   0   0   1   0   0   7   0   0   0   0  76   0   0   0]\n",
            " [  0   0   0   0   0   0   0   0   0   0   0   0   0   0 106   0   0   0]\n",
            " [  0   0   0   0   0   0   2   0   0   2   1   0   0   0   6   0   0   0]\n",
            " [  0   0   0   0   0   0   0   0   0   0   0   0   0   0  10   0   0   0]\n",
            " [  0   0   0   0   3   0   0   0   0   3   1   0   0   0   4   0   0   0]\n",
            " [  0   1   1   0   0   0   0   0   0   1   0   0   0   0 915   0   0   0]\n",
            " [  0   0   1   0   7   0   0   0   0   1   0   0   0   0   4   0   0   0]\n",
            " [  0   1   0   0   3   0   0   0   0   1   0   0   0   0  25   0   0   0]\n",
            " [  0   0   0   0   0   0   0   0   0   0   0   0   0   0   5   0   0   0]]\n"
          ]
        }
      ]
    },
    {
      "cell_type": "markdown",
      "source": [
        "# 2 RNN blocks"
      ],
      "metadata": {
        "id": "Pl2D-DXqPL0T"
      }
    },
    {
      "cell_type": "markdown",
      "source": [
        "In this implementation, we have used two GRU blocks with 64 and 128 hidden units respectively. The dropout rate is set to 0.2 to prevent overfitting. The input sequences are first passed through the first GRU block, and then the output of the first block is passed through the second GRU block. The output of the second GRU block is then passed through a linear layer to get the final classification scores.\n",
        "\n",
        "To tune the hyperparameters, we can use techniques like grid search or random search. We can vary the number of hidden units, number of layers, and dropout rate to find the best configuration for our model."
      ],
      "metadata": {
        "id": "vBQ2oN29PMB0"
      }
    },
    {
      "cell_type": "code",
      "source": [
        "class StackedNameLanguageModel(nn.Module):\n",
        "    def __init__(self, vocab_size, num_classes):\n",
        "        super(StackedNameLanguageModel, self).__init__()\n",
        "        self.embedding = nn.Embedding(vocab_size, 32)\n",
        "        self.gru1 = nn.GRU(32, 64, num_layers=2, dropout=0.2, batch_first=True)\n",
        "        self.gru2 = nn.GRU(64, 128, num_layers=2, dropout=0.2, batch_first=True)\n",
        "        self.fc = nn.Linear(128, num_classes)\n",
        "        \n",
        "    def forward(self, x):\n",
        "        x = self.embedding(x)\n",
        "        output, h_n = self.gru1(x)\n",
        "        output, h_n = self.gru2(output)\n",
        "        x = h_n[-1, :, :]\n",
        "        x = self.fc(x)\n",
        "        return x\n"
      ],
      "metadata": {
        "id": "5E18UxtERDQL"
      },
      "execution_count": 67,
      "outputs": []
    },
    {
      "cell_type": "code",
      "source": [
        "# Create a new instance of the model\n",
        "model3 = StackedNameLanguageModel(len(vocab), len(pd.get_dummies(df['language']).columns))\n",
        "model3.to(device)"
      ],
      "metadata": {
        "colab": {
          "base_uri": "https://localhost:8080/"
        },
        "id": "tEvHgrBmdmxD",
        "outputId": "e2b3a2ca-e168-4f5d-cc4c-c0021bf69231"
      },
      "execution_count": 68,
      "outputs": [
        {
          "output_type": "execute_result",
          "data": {
            "text/plain": [
              "StackedNameLanguageModel(\n",
              "  (embedding): Embedding(14078, 32)\n",
              "  (gru1): GRU(32, 64, num_layers=2, batch_first=True, dropout=0.2)\n",
              "  (gru2): GRU(64, 128, num_layers=2, batch_first=True, dropout=0.2)\n",
              "  (fc): Linear(in_features=128, out_features=18, bias=True)\n",
              ")"
            ]
          },
          "metadata": {},
          "execution_count": 68
        }
      ]
    },
    {
      "cell_type": "code",
      "source": [
        "# Define the loss function and optimizer\n",
        "criterion = nn.CrossEntropyLoss()\n",
        "optimizer3 = optim.Adam(model3.parameters())"
      ],
      "metadata": {
        "id": "fY_-62c-dc4n"
      },
      "execution_count": 69,
      "outputs": []
    },
    {
      "cell_type": "code",
      "source": [
        "# Create empty lists to store the training and validation losses\n",
        "train_losses= []\n",
        "\n",
        "# Train the model\n",
        "for epoch in range(NUM_EPOCHS):\n",
        "    # Set the model to train mode\n",
        "    model3.train()\n",
        "    # Loop over the batches in the train dataloader\n",
        "    train_loss_epoch = 0.0\n",
        "    for batch in train_dataloader:\n",
        "        # Move the data to the device\n",
        "        inputs, labels = batch\n",
        "        inputs = inputs.to(device)\n",
        "        labels = labels.to(device)\n",
        "        # Zero the gradients\n",
        "        optimizer3.zero_grad()\n",
        "        # Forward pass\n",
        "        outputs = model3(inputs)\n",
        "        loss = criterion(outputs, torch.argmax(labels, dim=1))\n",
        "        # Backward pass\n",
        "        loss.backward()\n",
        "        # Update the parameters\n",
        "        optimizer3.step()\n",
        "        # Compute the loss for this batch and add it to the epoch loss\n",
        "        train_loss_epoch += loss.item()\n",
        "    # Compute the average loss per batch and append it to the train_losses list\n",
        "    train_loss_epoch /= len(train_dataloader)\n",
        "    train_losses.append(train_loss_epoch)\n",
        "\n",
        "     # Print the epoch number, training loss, and validation loss and accuracy\n",
        "    print('Epoch [%d/%d] Train Loss: %.4f' % (\n",
        "        epoch+1, NUM_EPOCHS, loss.item()))"
      ],
      "metadata": {
        "colab": {
          "base_uri": "https://localhost:8080/"
        },
        "id": "gcLPCyokdjz6",
        "outputId": "270c784a-2acc-41c9-9947-8cb65deb286b"
      },
      "execution_count": 70,
      "outputs": [
        {
          "output_type": "stream",
          "name": "stdout",
          "text": [
            "Epoch [1/20] Train Loss: 1.8711\n",
            "Epoch [2/20] Train Loss: 1.8074\n",
            "Epoch [3/20] Train Loss: 1.6841\n",
            "Epoch [4/20] Train Loss: 1.5319\n",
            "Epoch [5/20] Train Loss: 1.5514\n",
            "Epoch [6/20] Train Loss: 1.4098\n",
            "Epoch [7/20] Train Loss: 1.3500\n",
            "Epoch [8/20] Train Loss: 1.3760\n",
            "Epoch [9/20] Train Loss: 1.3072\n",
            "Epoch [10/20] Train Loss: 1.0281\n",
            "Epoch [11/20] Train Loss: 1.0520\n",
            "Epoch [12/20] Train Loss: 1.1652\n",
            "Epoch [13/20] Train Loss: 1.1831\n",
            "Epoch [14/20] Train Loss: 0.8611\n",
            "Epoch [15/20] Train Loss: 0.9165\n",
            "Epoch [16/20] Train Loss: 0.7330\n",
            "Epoch [17/20] Train Loss: 0.6498\n",
            "Epoch [18/20] Train Loss: 0.5667\n",
            "Epoch [19/20] Train Loss: 0.5609\n",
            "Epoch [20/20] Train Loss: 0.4941\n"
          ]
        }
      ]
    },
    {
      "cell_type": "code",
      "source": [
        "# Set the model to evaluation mode\n",
        "model3.eval()\n",
        "val_losses3 = []\n",
        "for epoch in range(NUM_EPOCHS):\n",
        "    # Initialize variables to keep track of the validation loss and accuracy\n",
        "    val_loss3 = 0.0\n",
        "    val_correct3 = 0\n",
        "    val_total3 = 0\n",
        "    val_preds3 = []\n",
        "    val_targets3 = []\n",
        "    \n",
        "    # Disable gradient computation to save memory\n",
        "    with torch.no_grad():\n",
        "        # Loop over the batches in the validation dataloader\n",
        "        for batch in val_dataloader:\n",
        "            # Move the data to the device\n",
        "            inputs, labels = batch\n",
        "            inputs = inputs.to(device)\n",
        "            labels = labels.to(device)\n",
        "            # Forward pass\n",
        "            outputs3 = model3(inputs)\n",
        "            loss3 = criterion(outputs3, torch.argmax(labels, dim=1))\n",
        "            val_loss3 += loss3.item() * inputs.size(0)\n",
        "            # Compute the accuracy\n",
        "            _, predicted3 = torch.max(outputs3.data, 1)\n",
        "            val_total3 += labels.size(0)\n",
        "            val_correct3 += (predicted3 == torch.argmax(labels, dim=1)).sum().item()\n",
        "            # Collect the predictions and targets\n",
        "            val_preds3 += predicted3.cpu().numpy().tolist()\n",
        "            val_targets3 += torch.argmax(labels, dim=1).cpu().numpy().tolist()\n",
        "\n",
        "    # Compute the validation loss and accuracy\n",
        "    val_loss3 /= len(val_dataset)\n",
        "    val_accuracy3 = val_correct3 / val_total3\n",
        "    val_losses3.append(val_loss3)\n",
        "    # Print the validation loss and accuracy\n",
        "    print('Validation Loss: %.4f Validation Accuracy: %.4f' % (val_loss3, val_accuracy3))"
      ],
      "metadata": {
        "colab": {
          "base_uri": "https://localhost:8080/"
        },
        "id": "AFn0kiCeeTbV",
        "outputId": "ce6c3d3b-6a5d-4674-b71d-8ee9a9827ea0"
      },
      "execution_count": 71,
      "outputs": [
        {
          "output_type": "stream",
          "name": "stdout",
          "text": [
            "Validation Loss: 2.0589 Validation Accuracy: 0.5625\n",
            "Validation Loss: 2.0589 Validation Accuracy: 0.5625\n",
            "Validation Loss: 2.0589 Validation Accuracy: 0.5625\n",
            "Validation Loss: 2.0589 Validation Accuracy: 0.5625\n",
            "Validation Loss: 2.0589 Validation Accuracy: 0.5625\n",
            "Validation Loss: 2.0589 Validation Accuracy: 0.5625\n",
            "Validation Loss: 2.0589 Validation Accuracy: 0.5625\n",
            "Validation Loss: 2.0589 Validation Accuracy: 0.5625\n",
            "Validation Loss: 2.0589 Validation Accuracy: 0.5625\n",
            "Validation Loss: 2.0589 Validation Accuracy: 0.5625\n",
            "Validation Loss: 2.0589 Validation Accuracy: 0.5625\n",
            "Validation Loss: 2.0589 Validation Accuracy: 0.5625\n",
            "Validation Loss: 2.0589 Validation Accuracy: 0.5625\n",
            "Validation Loss: 2.0589 Validation Accuracy: 0.5625\n",
            "Validation Loss: 2.0589 Validation Accuracy: 0.5625\n",
            "Validation Loss: 2.0589 Validation Accuracy: 0.5625\n",
            "Validation Loss: 2.0589 Validation Accuracy: 0.5625\n",
            "Validation Loss: 2.0589 Validation Accuracy: 0.5625\n",
            "Validation Loss: 2.0589 Validation Accuracy: 0.5625\n",
            "Validation Loss: 2.0589 Validation Accuracy: 0.5625\n"
          ]
        }
      ]
    },
    {
      "cell_type": "code",
      "source": [
        "# Define a high initial value for best validation loss\n",
        "best_val_loss3 = float('inf')\n",
        "# Save the best model\n",
        "if val_loss3 < best_val_loss3:\n",
        "    best_val_loss3 = val_loss3\n",
        "    torch.save(model3.state_dict(), 'best_model3.pth')"
      ],
      "metadata": {
        "id": "CSI6XiXkW-wg"
      },
      "execution_count": 72,
      "outputs": []
    },
    {
      "cell_type": "code",
      "source": [
        "# Load the saved state dictionary\n",
        "state_dict3 = torch.load('best_model3.pth', map_location=device)"
      ],
      "metadata": {
        "id": "JdkjF_agX8gz"
      },
      "execution_count": 73,
      "outputs": []
    },
    {
      "cell_type": "code",
      "source": [
        "model3.load_state_dict(state_dict3)"
      ],
      "metadata": {
        "colab": {
          "base_uri": "https://localhost:8080/"
        },
        "id": "PiijoqoUYK1n",
        "outputId": "76c76859-0b70-44b3-b31d-191659be1742"
      },
      "execution_count": 74,
      "outputs": [
        {
          "output_type": "execute_result",
          "data": {
            "text/plain": [
              "<All keys matched successfully>"
            ]
          },
          "metadata": {},
          "execution_count": 74
        }
      ]
    },
    {
      "cell_type": "code",
      "source": [
        "# Create a tokenizer function to split the text data into tokens\n",
        "tokenizer = torchtext.data.utils.get_tokenizer('basic_english')\n",
        "\n",
        "# Define a function to get the language of origin for a given name\n",
        "def get_language(name):\n",
        "    # Convert the name to a sequence of integers\n",
        "    sequence = tokenizer(name)\n",
        "    sequence = [vocab[token] if token in vocab else vocab['<unk>'] for token in sequence]\n",
        "    sequence = torch.tensor(sequence, dtype=torch.long).unsqueeze(0)\n",
        "    sequence = sequence.to(device)\n",
        "    # Make a prediction using the trained model\n",
        "    with torch.no_grad():\n",
        "        output = model3(sequence)\n",
        "        prediction = torch.argmax(output).item()\n",
        "    # Get the language label for the predicted class\n",
        "    label = pd.get_dummies(df['language']).columns[prediction]\n",
        "    return label\n",
        "\n",
        "# Test the function on the given words\n",
        "words = ['Emilia', 'Alexandra', 'Sachiko', 'Vladimir', 'Minh', 'Xi', 'Muammar', 'Mukesh', 'Andrew', 'Ronaldo']\n",
        "for word in words:\n",
        "    language = get_language(word)\n",
        "    print(f\"{word}: {language}\")\n"
      ],
      "metadata": {
        "colab": {
          "base_uri": "https://localhost:8080/"
        },
        "id": "rhl7Zm5cbXoV",
        "outputId": "e6a8261b-f5a6-40fb-caab-79d0b86c6ff0"
      },
      "execution_count": 75,
      "outputs": [
        {
          "output_type": "stream",
          "name": "stdout",
          "text": [
            "Emilia: Russian\n",
            "Alexandra: Russian\n",
            "Sachiko: Russian\n",
            "Vladimir: Russian\n",
            "Minh: Russian\n",
            "Xi: Russian\n",
            "Muammar: Russian\n",
            "Mukesh: Russian\n",
            "Andrew: English\n",
            "Ronaldo: Russian\n"
          ]
        }
      ]
    },
    {
      "cell_type": "markdown",
      "source": [
        "The output from the code indicates that the trained RNN model is not able to accurately predict the language of origin for most of the input names."
      ],
      "metadata": {
        "id": "HBH26SVMZGHr"
      }
    }
  ]
}