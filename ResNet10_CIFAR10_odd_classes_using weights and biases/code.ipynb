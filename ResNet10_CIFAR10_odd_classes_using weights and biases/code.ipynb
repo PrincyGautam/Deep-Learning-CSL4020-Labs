{
  "nbformat": 4,
  "nbformat_minor": 0,
  "metadata": {
    "colab": {
      "provenance": []
    },
    "kernelspec": {
      "name": "python3",
      "display_name": "Python 3"
    },
    "language_info": {
      "name": "python"
    },
    "accelerator": "GPU",
    "gpuClass": "standard",
    "widgets": {
      "application/vnd.jupyter.widget-state+json": {
        "19b7e13bc800448784360c8162bb45ec": {
          "model_module": "@jupyter-widgets/controls",
          "model_name": "VBoxModel",
          "model_module_version": "1.5.0",
          "state": {
            "_dom_classes": [],
            "_model_module": "@jupyter-widgets/controls",
            "_model_module_version": "1.5.0",
            "_model_name": "VBoxModel",
            "_view_count": null,
            "_view_module": "@jupyter-widgets/controls",
            "_view_module_version": "1.5.0",
            "_view_name": "VBoxView",
            "box_style": "",
            "children": [
              "IPY_MODEL_b114ccbfe896481b8a618920337e8978",
              "IPY_MODEL_b5f6d6421c5a44549bdb213d15c06315"
            ],
            "layout": "IPY_MODEL_4a72c0bc68a44c05a110c56a94928f17"
          }
        },
        "b114ccbfe896481b8a618920337e8978": {
          "model_module": "@jupyter-widgets/controls",
          "model_name": "LabelModel",
          "model_module_version": "1.5.0",
          "state": {
            "_dom_classes": [],
            "_model_module": "@jupyter-widgets/controls",
            "_model_module_version": "1.5.0",
            "_model_name": "LabelModel",
            "_view_count": null,
            "_view_module": "@jupyter-widgets/controls",
            "_view_module_version": "1.5.0",
            "_view_name": "LabelView",
            "description": "",
            "description_tooltip": null,
            "layout": "IPY_MODEL_35b973a97f4845dbbe5fd86c9a8d037c",
            "placeholder": "​",
            "style": "IPY_MODEL_01eb6d3c99394a08a994cd377824c653",
            "value": "0.001 MB of 0.009 MB uploaded (0.000 MB deduped)\r"
          }
        },
        "b5f6d6421c5a44549bdb213d15c06315": {
          "model_module": "@jupyter-widgets/controls",
          "model_name": "FloatProgressModel",
          "model_module_version": "1.5.0",
          "state": {
            "_dom_classes": [],
            "_model_module": "@jupyter-widgets/controls",
            "_model_module_version": "1.5.0",
            "_model_name": "FloatProgressModel",
            "_view_count": null,
            "_view_module": "@jupyter-widgets/controls",
            "_view_module_version": "1.5.0",
            "_view_name": "ProgressView",
            "bar_style": "",
            "description": "",
            "description_tooltip": null,
            "layout": "IPY_MODEL_af3b67e77b2c407e962ab8773ca3b233",
            "max": 1,
            "min": 0,
            "orientation": "horizontal",
            "style": "IPY_MODEL_2d2ace5a882f4b2b894d9ee66c70fd73",
            "value": 0.12295859235064799
          }
        },
        "4a72c0bc68a44c05a110c56a94928f17": {
          "model_module": "@jupyter-widgets/base",
          "model_name": "LayoutModel",
          "model_module_version": "1.2.0",
          "state": {
            "_model_module": "@jupyter-widgets/base",
            "_model_module_version": "1.2.0",
            "_model_name": "LayoutModel",
            "_view_count": null,
            "_view_module": "@jupyter-widgets/base",
            "_view_module_version": "1.2.0",
            "_view_name": "LayoutView",
            "align_content": null,
            "align_items": null,
            "align_self": null,
            "border": null,
            "bottom": null,
            "display": null,
            "flex": null,
            "flex_flow": null,
            "grid_area": null,
            "grid_auto_columns": null,
            "grid_auto_flow": null,
            "grid_auto_rows": null,
            "grid_column": null,
            "grid_gap": null,
            "grid_row": null,
            "grid_template_areas": null,
            "grid_template_columns": null,
            "grid_template_rows": null,
            "height": null,
            "justify_content": null,
            "justify_items": null,
            "left": null,
            "margin": null,
            "max_height": null,
            "max_width": null,
            "min_height": null,
            "min_width": null,
            "object_fit": null,
            "object_position": null,
            "order": null,
            "overflow": null,
            "overflow_x": null,
            "overflow_y": null,
            "padding": null,
            "right": null,
            "top": null,
            "visibility": null,
            "width": null
          }
        },
        "35b973a97f4845dbbe5fd86c9a8d037c": {
          "model_module": "@jupyter-widgets/base",
          "model_name": "LayoutModel",
          "model_module_version": "1.2.0",
          "state": {
            "_model_module": "@jupyter-widgets/base",
            "_model_module_version": "1.2.0",
            "_model_name": "LayoutModel",
            "_view_count": null,
            "_view_module": "@jupyter-widgets/base",
            "_view_module_version": "1.2.0",
            "_view_name": "LayoutView",
            "align_content": null,
            "align_items": null,
            "align_self": null,
            "border": null,
            "bottom": null,
            "display": null,
            "flex": null,
            "flex_flow": null,
            "grid_area": null,
            "grid_auto_columns": null,
            "grid_auto_flow": null,
            "grid_auto_rows": null,
            "grid_column": null,
            "grid_gap": null,
            "grid_row": null,
            "grid_template_areas": null,
            "grid_template_columns": null,
            "grid_template_rows": null,
            "height": null,
            "justify_content": null,
            "justify_items": null,
            "left": null,
            "margin": null,
            "max_height": null,
            "max_width": null,
            "min_height": null,
            "min_width": null,
            "object_fit": null,
            "object_position": null,
            "order": null,
            "overflow": null,
            "overflow_x": null,
            "overflow_y": null,
            "padding": null,
            "right": null,
            "top": null,
            "visibility": null,
            "width": null
          }
        },
        "01eb6d3c99394a08a994cd377824c653": {
          "model_module": "@jupyter-widgets/controls",
          "model_name": "DescriptionStyleModel",
          "model_module_version": "1.5.0",
          "state": {
            "_model_module": "@jupyter-widgets/controls",
            "_model_module_version": "1.5.0",
            "_model_name": "DescriptionStyleModel",
            "_view_count": null,
            "_view_module": "@jupyter-widgets/base",
            "_view_module_version": "1.2.0",
            "_view_name": "StyleView",
            "description_width": ""
          }
        },
        "af3b67e77b2c407e962ab8773ca3b233": {
          "model_module": "@jupyter-widgets/base",
          "model_name": "LayoutModel",
          "model_module_version": "1.2.0",
          "state": {
            "_model_module": "@jupyter-widgets/base",
            "_model_module_version": "1.2.0",
            "_model_name": "LayoutModel",
            "_view_count": null,
            "_view_module": "@jupyter-widgets/base",
            "_view_module_version": "1.2.0",
            "_view_name": "LayoutView",
            "align_content": null,
            "align_items": null,
            "align_self": null,
            "border": null,
            "bottom": null,
            "display": null,
            "flex": null,
            "flex_flow": null,
            "grid_area": null,
            "grid_auto_columns": null,
            "grid_auto_flow": null,
            "grid_auto_rows": null,
            "grid_column": null,
            "grid_gap": null,
            "grid_row": null,
            "grid_template_areas": null,
            "grid_template_columns": null,
            "grid_template_rows": null,
            "height": null,
            "justify_content": null,
            "justify_items": null,
            "left": null,
            "margin": null,
            "max_height": null,
            "max_width": null,
            "min_height": null,
            "min_width": null,
            "object_fit": null,
            "object_position": null,
            "order": null,
            "overflow": null,
            "overflow_x": null,
            "overflow_y": null,
            "padding": null,
            "right": null,
            "top": null,
            "visibility": null,
            "width": null
          }
        },
        "2d2ace5a882f4b2b894d9ee66c70fd73": {
          "model_module": "@jupyter-widgets/controls",
          "model_name": "ProgressStyleModel",
          "model_module_version": "1.5.0",
          "state": {
            "_model_module": "@jupyter-widgets/controls",
            "_model_module_version": "1.5.0",
            "_model_name": "ProgressStyleModel",
            "_view_count": null,
            "_view_module": "@jupyter-widgets/base",
            "_view_module_version": "1.2.0",
            "_view_name": "StyleView",
            "bar_color": null,
            "description_width": ""
          }
        },
        "4512587525b142c986ffcce67344e890": {
          "model_module": "@jupyter-widgets/controls",
          "model_name": "VBoxModel",
          "model_module_version": "1.5.0",
          "state": {
            "_dom_classes": [],
            "_model_module": "@jupyter-widgets/controls",
            "_model_module_version": "1.5.0",
            "_model_name": "VBoxModel",
            "_view_count": null,
            "_view_module": "@jupyter-widgets/controls",
            "_view_module_version": "1.5.0",
            "_view_name": "VBoxView",
            "box_style": "",
            "children": [
              "IPY_MODEL_278b3362c24345be86e42b63ce822803",
              "IPY_MODEL_3fd42d6fb54c4281900e3f37f2e9d75f"
            ],
            "layout": "IPY_MODEL_98c6092db7874ec1917423de862f8fea"
          }
        },
        "278b3362c24345be86e42b63ce822803": {
          "model_module": "@jupyter-widgets/controls",
          "model_name": "LabelModel",
          "model_module_version": "1.5.0",
          "state": {
            "_dom_classes": [],
            "_model_module": "@jupyter-widgets/controls",
            "_model_module_version": "1.5.0",
            "_model_name": "LabelModel",
            "_view_count": null,
            "_view_module": "@jupyter-widgets/controls",
            "_view_module_version": "1.5.0",
            "_view_name": "LabelView",
            "description": "",
            "description_tooltip": null,
            "layout": "IPY_MODEL_2b16a3d5b08548e69a6e65ba6b917d13",
            "placeholder": "​",
            "style": "IPY_MODEL_c82e8282c66d4425b6de75c87eb43378",
            "value": "0.001 MB of 0.009 MB uploaded (0.000 MB deduped)\r"
          }
        },
        "3fd42d6fb54c4281900e3f37f2e9d75f": {
          "model_module": "@jupyter-widgets/controls",
          "model_name": "FloatProgressModel",
          "model_module_version": "1.5.0",
          "state": {
            "_dom_classes": [],
            "_model_module": "@jupyter-widgets/controls",
            "_model_module_version": "1.5.0",
            "_model_name": "FloatProgressModel",
            "_view_count": null,
            "_view_module": "@jupyter-widgets/controls",
            "_view_module_version": "1.5.0",
            "_view_name": "ProgressView",
            "bar_style": "",
            "description": "",
            "description_tooltip": null,
            "layout": "IPY_MODEL_548434d58c764f3e84cbcbb00e5191e0",
            "max": 1,
            "min": 0,
            "orientation": "horizontal",
            "style": "IPY_MODEL_6b73cb1900c84841806952d5922af981",
            "value": 0.12280332526570557
          }
        },
        "98c6092db7874ec1917423de862f8fea": {
          "model_module": "@jupyter-widgets/base",
          "model_name": "LayoutModel",
          "model_module_version": "1.2.0",
          "state": {
            "_model_module": "@jupyter-widgets/base",
            "_model_module_version": "1.2.0",
            "_model_name": "LayoutModel",
            "_view_count": null,
            "_view_module": "@jupyter-widgets/base",
            "_view_module_version": "1.2.0",
            "_view_name": "LayoutView",
            "align_content": null,
            "align_items": null,
            "align_self": null,
            "border": null,
            "bottom": null,
            "display": null,
            "flex": null,
            "flex_flow": null,
            "grid_area": null,
            "grid_auto_columns": null,
            "grid_auto_flow": null,
            "grid_auto_rows": null,
            "grid_column": null,
            "grid_gap": null,
            "grid_row": null,
            "grid_template_areas": null,
            "grid_template_columns": null,
            "grid_template_rows": null,
            "height": null,
            "justify_content": null,
            "justify_items": null,
            "left": null,
            "margin": null,
            "max_height": null,
            "max_width": null,
            "min_height": null,
            "min_width": null,
            "object_fit": null,
            "object_position": null,
            "order": null,
            "overflow": null,
            "overflow_x": null,
            "overflow_y": null,
            "padding": null,
            "right": null,
            "top": null,
            "visibility": null,
            "width": null
          }
        },
        "2b16a3d5b08548e69a6e65ba6b917d13": {
          "model_module": "@jupyter-widgets/base",
          "model_name": "LayoutModel",
          "model_module_version": "1.2.0",
          "state": {
            "_model_module": "@jupyter-widgets/base",
            "_model_module_version": "1.2.0",
            "_model_name": "LayoutModel",
            "_view_count": null,
            "_view_module": "@jupyter-widgets/base",
            "_view_module_version": "1.2.0",
            "_view_name": "LayoutView",
            "align_content": null,
            "align_items": null,
            "align_self": null,
            "border": null,
            "bottom": null,
            "display": null,
            "flex": null,
            "flex_flow": null,
            "grid_area": null,
            "grid_auto_columns": null,
            "grid_auto_flow": null,
            "grid_auto_rows": null,
            "grid_column": null,
            "grid_gap": null,
            "grid_row": null,
            "grid_template_areas": null,
            "grid_template_columns": null,
            "grid_template_rows": null,
            "height": null,
            "justify_content": null,
            "justify_items": null,
            "left": null,
            "margin": null,
            "max_height": null,
            "max_width": null,
            "min_height": null,
            "min_width": null,
            "object_fit": null,
            "object_position": null,
            "order": null,
            "overflow": null,
            "overflow_x": null,
            "overflow_y": null,
            "padding": null,
            "right": null,
            "top": null,
            "visibility": null,
            "width": null
          }
        },
        "c82e8282c66d4425b6de75c87eb43378": {
          "model_module": "@jupyter-widgets/controls",
          "model_name": "DescriptionStyleModel",
          "model_module_version": "1.5.0",
          "state": {
            "_model_module": "@jupyter-widgets/controls",
            "_model_module_version": "1.5.0",
            "_model_name": "DescriptionStyleModel",
            "_view_count": null,
            "_view_module": "@jupyter-widgets/base",
            "_view_module_version": "1.2.0",
            "_view_name": "StyleView",
            "description_width": ""
          }
        },
        "548434d58c764f3e84cbcbb00e5191e0": {
          "model_module": "@jupyter-widgets/base",
          "model_name": "LayoutModel",
          "model_module_version": "1.2.0",
          "state": {
            "_model_module": "@jupyter-widgets/base",
            "_model_module_version": "1.2.0",
            "_model_name": "LayoutModel",
            "_view_count": null,
            "_view_module": "@jupyter-widgets/base",
            "_view_module_version": "1.2.0",
            "_view_name": "LayoutView",
            "align_content": null,
            "align_items": null,
            "align_self": null,
            "border": null,
            "bottom": null,
            "display": null,
            "flex": null,
            "flex_flow": null,
            "grid_area": null,
            "grid_auto_columns": null,
            "grid_auto_flow": null,
            "grid_auto_rows": null,
            "grid_column": null,
            "grid_gap": null,
            "grid_row": null,
            "grid_template_areas": null,
            "grid_template_columns": null,
            "grid_template_rows": null,
            "height": null,
            "justify_content": null,
            "justify_items": null,
            "left": null,
            "margin": null,
            "max_height": null,
            "max_width": null,
            "min_height": null,
            "min_width": null,
            "object_fit": null,
            "object_position": null,
            "order": null,
            "overflow": null,
            "overflow_x": null,
            "overflow_y": null,
            "padding": null,
            "right": null,
            "top": null,
            "visibility": null,
            "width": null
          }
        },
        "6b73cb1900c84841806952d5922af981": {
          "model_module": "@jupyter-widgets/controls",
          "model_name": "ProgressStyleModel",
          "model_module_version": "1.5.0",
          "state": {
            "_model_module": "@jupyter-widgets/controls",
            "_model_module_version": "1.5.0",
            "_model_name": "ProgressStyleModel",
            "_view_count": null,
            "_view_module": "@jupyter-widgets/base",
            "_view_module_version": "1.2.0",
            "_view_name": "StyleView",
            "bar_color": null,
            "description_width": ""
          }
        }
      }
    }
  },
  "cells": [
    {
      "cell_type": "code",
      "source": [
        "import torch\n",
        "from torchvision import datasets, transforms\n",
        "\n",
        "# Define a transform to normalize the data\n",
        "transform = transforms.Compose([\n",
        "    transforms.ToTensor(),\n",
        "    transforms.Normalize((0.5,), (0.5,))\n",
        "])\n",
        "\n",
        "# Download the FashionMNIST dataset\n",
        "train_data = datasets.FashionMNIST(root='data', train=True,\n",
        "                                   download=True, transform=transform)\n",
        "test_data = datasets.FashionMNIST(root='data', train=False,\n",
        "                                  download=True, transform=transform)\n",
        "\n",
        "# Remove even classes from the dataset\n",
        "odd_classes = [1,3,5,7,9]\n",
        "\n",
        "odd_idx_train = [i for i in range(len(train_data)) if train_data[i][1] in odd_classes]\n",
        "odd_idx_test = [i for i in range(len(test_data)) if test_data[i][1] in odd_classes]\n",
        "\n",
        "mnist_subset_train = torch.utils.data.Subset(train_data, odd_idx_train)\n",
        "mnist_subset_test = torch.utils.data.Subset(test_data, odd_idx_test)\n",
        "\n",
        "a = torch.zeros([len(mnist_subset_train),1,28,28])\n",
        "b = torch.zeros([len(mnist_subset_train)])\n",
        "for i, (image, label) in enumerate(mnist_subset_train):\n",
        "    a[i] = image\n",
        "    if label == 1:\n",
        "        b[i] = int(0)\n",
        "    elif label == 3:\n",
        "        b[i] = int(1)\n",
        "    elif label == 5:\n",
        "        b[i] = int(2)\n",
        "    elif label == 7:\n",
        "        b[i] = int(3)\n",
        "    elif label == 9:\n",
        "        b[i] = int(4)\n",
        "train_dataset = torch.utils.data.TensorDataset(a,b)\n",
        "\n",
        "p = torch.zeros([len(mnist_subset_test),1,28,28])\n",
        "q = torch.zeros([len(mnist_subset_test)])\n",
        "for i, (image, label) in enumerate(mnist_subset_test):\n",
        "    p[i] = image\n",
        "    if label == 1:\n",
        "        q[i] = int(0)\n",
        "    elif label == 3:\n",
        "        q[i] = int(1)\n",
        "    elif label == 5:\n",
        "        q[i] = int(2)\n",
        "    elif label == 7:\n",
        "        q[i] = int(3)\n",
        "    elif label == 9:\n",
        "        q[i] = int(4)\n",
        "test_dataset = torch.utils.data.TensorDataset(p,q)\n",
        "\n",
        "# Create dataloaders for train and test sets\n",
        "batch_size = 64\n",
        "train_loader = torch.utils.data.DataLoader(train_dataset, batch_size=batch_size, shuffle=True)\n",
        "test_loader = torch.utils.data.DataLoader(test_dataset, batch_size=batch_size, shuffle=False)\n"
      ],
      "metadata": {
        "id": "-6HRxy5hhzGq",
        "colab": {
          "base_uri": "https://localhost:8080/"
        },
        "outputId": "065b8ac9-f2c6-48f4-c504-2295eead789f"
      },
      "execution_count": 1,
      "outputs": [
        {
          "output_type": "stream",
          "name": "stdout",
          "text": [
            "Downloading http://fashion-mnist.s3-website.eu-central-1.amazonaws.com/train-images-idx3-ubyte.gz\n",
            "Downloading http://fashion-mnist.s3-website.eu-central-1.amazonaws.com/train-images-idx3-ubyte.gz to data/FashionMNIST/raw/train-images-idx3-ubyte.gz\n"
          ]
        },
        {
          "output_type": "stream",
          "name": "stderr",
          "text": [
            "100%|██████████| 26421880/26421880 [00:00<00:00, 108187359.33it/s]\n"
          ]
        },
        {
          "output_type": "stream",
          "name": "stdout",
          "text": [
            "Extracting data/FashionMNIST/raw/train-images-idx3-ubyte.gz to data/FashionMNIST/raw\n",
            "\n",
            "Downloading http://fashion-mnist.s3-website.eu-central-1.amazonaws.com/train-labels-idx1-ubyte.gz\n",
            "Downloading http://fashion-mnist.s3-website.eu-central-1.amazonaws.com/train-labels-idx1-ubyte.gz to data/FashionMNIST/raw/train-labels-idx1-ubyte.gz\n"
          ]
        },
        {
          "output_type": "stream",
          "name": "stderr",
          "text": [
            "100%|██████████| 29515/29515 [00:00<00:00, 5956832.00it/s]"
          ]
        },
        {
          "output_type": "stream",
          "name": "stdout",
          "text": [
            "Extracting data/FashionMNIST/raw/train-labels-idx1-ubyte.gz to data/FashionMNIST/raw\n",
            "\n",
            "Downloading http://fashion-mnist.s3-website.eu-central-1.amazonaws.com/t10k-images-idx3-ubyte.gz\n",
            "Downloading http://fashion-mnist.s3-website.eu-central-1.amazonaws.com/t10k-images-idx3-ubyte.gz to data/FashionMNIST/raw/t10k-images-idx3-ubyte.gz\n"
          ]
        },
        {
          "output_type": "stream",
          "name": "stderr",
          "text": [
            "\n",
            "100%|██████████| 4422102/4422102 [00:00<00:00, 62619482.06it/s]\n"
          ]
        },
        {
          "output_type": "stream",
          "name": "stdout",
          "text": [
            "Extracting data/FashionMNIST/raw/t10k-images-idx3-ubyte.gz to data/FashionMNIST/raw\n",
            "\n",
            "Downloading http://fashion-mnist.s3-website.eu-central-1.amazonaws.com/t10k-labels-idx1-ubyte.gz\n",
            "Downloading http://fashion-mnist.s3-website.eu-central-1.amazonaws.com/t10k-labels-idx1-ubyte.gz to data/FashionMNIST/raw/t10k-labels-idx1-ubyte.gz\n"
          ]
        },
        {
          "output_type": "stream",
          "name": "stderr",
          "text": [
            "100%|██████████| 5148/5148 [00:00<00:00, 19900716.12it/s]\n"
          ]
        },
        {
          "output_type": "stream",
          "name": "stdout",
          "text": [
            "Extracting data/FashionMNIST/raw/t10k-labels-idx1-ubyte.gz to data/FashionMNIST/raw\n",
            "\n"
          ]
        }
      ]
    },
    {
      "cell_type": "code",
      "source": [
        "print(len(train_dataset))\n",
        "print(len(test_dataset))"
      ],
      "metadata": {
        "colab": {
          "base_uri": "https://localhost:8080/"
        },
        "id": "FxmdxaBuwy5b",
        "outputId": "77b9ddf2-105d-4b17-f552-21c3e4feeb63"
      },
      "execution_count": 2,
      "outputs": [
        {
          "output_type": "stream",
          "name": "stdout",
          "text": [
            "30000\n",
            "5000\n"
          ]
        }
      ]
    },
    {
      "cell_type": "code",
      "source": [
        "import torchvision\n",
        "import torch.nn as nn\n",
        "import torch.optim as optim\n",
        "import torch.nn.functional as F\n",
        "import torchvision.models as models"
      ],
      "metadata": {
        "id": "8blb0leHj6F3"
      },
      "execution_count": 3,
      "outputs": []
    },
    {
      "cell_type": "code",
      "source": [
        "model= models.resnet18( num_classes=5)\n",
        "model.conv1 = nn.Conv2d(1, 64, kernel_size=(3, 3), stride=(2, 2), padding=(3, 3), bias=False)\n",
        "#model.fc = torch.nn.Linear(512 ,10)"
      ],
      "metadata": {
        "id": "owHd8YUFxSIW"
      },
      "execution_count": 4,
      "outputs": []
    },
    {
      "cell_type": "code",
      "source": [
        "device = torch.device('cuda' if torch.cuda.is_available() else 'cpu')\n",
        "model.to(device)"
      ],
      "metadata": {
        "colab": {
          "base_uri": "https://localhost:8080/"
        },
        "id": "vGrbvXixxh16",
        "outputId": "cb182efb-30ce-4abb-c7d8-8c99dafa3910"
      },
      "execution_count": 5,
      "outputs": [
        {
          "output_type": "execute_result",
          "data": {
            "text/plain": [
              "ResNet(\n",
              "  (conv1): Conv2d(1, 64, kernel_size=(3, 3), stride=(2, 2), padding=(3, 3), bias=False)\n",
              "  (bn1): BatchNorm2d(64, eps=1e-05, momentum=0.1, affine=True, track_running_stats=True)\n",
              "  (relu): ReLU(inplace=True)\n",
              "  (maxpool): MaxPool2d(kernel_size=3, stride=2, padding=1, dilation=1, ceil_mode=False)\n",
              "  (layer1): Sequential(\n",
              "    (0): BasicBlock(\n",
              "      (conv1): Conv2d(64, 64, kernel_size=(3, 3), stride=(1, 1), padding=(1, 1), bias=False)\n",
              "      (bn1): BatchNorm2d(64, eps=1e-05, momentum=0.1, affine=True, track_running_stats=True)\n",
              "      (relu): ReLU(inplace=True)\n",
              "      (conv2): Conv2d(64, 64, kernel_size=(3, 3), stride=(1, 1), padding=(1, 1), bias=False)\n",
              "      (bn2): BatchNorm2d(64, eps=1e-05, momentum=0.1, affine=True, track_running_stats=True)\n",
              "    )\n",
              "    (1): BasicBlock(\n",
              "      (conv1): Conv2d(64, 64, kernel_size=(3, 3), stride=(1, 1), padding=(1, 1), bias=False)\n",
              "      (bn1): BatchNorm2d(64, eps=1e-05, momentum=0.1, affine=True, track_running_stats=True)\n",
              "      (relu): ReLU(inplace=True)\n",
              "      (conv2): Conv2d(64, 64, kernel_size=(3, 3), stride=(1, 1), padding=(1, 1), bias=False)\n",
              "      (bn2): BatchNorm2d(64, eps=1e-05, momentum=0.1, affine=True, track_running_stats=True)\n",
              "    )\n",
              "  )\n",
              "  (layer2): Sequential(\n",
              "    (0): BasicBlock(\n",
              "      (conv1): Conv2d(64, 128, kernel_size=(3, 3), stride=(2, 2), padding=(1, 1), bias=False)\n",
              "      (bn1): BatchNorm2d(128, eps=1e-05, momentum=0.1, affine=True, track_running_stats=True)\n",
              "      (relu): ReLU(inplace=True)\n",
              "      (conv2): Conv2d(128, 128, kernel_size=(3, 3), stride=(1, 1), padding=(1, 1), bias=False)\n",
              "      (bn2): BatchNorm2d(128, eps=1e-05, momentum=0.1, affine=True, track_running_stats=True)\n",
              "      (downsample): Sequential(\n",
              "        (0): Conv2d(64, 128, kernel_size=(1, 1), stride=(2, 2), bias=False)\n",
              "        (1): BatchNorm2d(128, eps=1e-05, momentum=0.1, affine=True, track_running_stats=True)\n",
              "      )\n",
              "    )\n",
              "    (1): BasicBlock(\n",
              "      (conv1): Conv2d(128, 128, kernel_size=(3, 3), stride=(1, 1), padding=(1, 1), bias=False)\n",
              "      (bn1): BatchNorm2d(128, eps=1e-05, momentum=0.1, affine=True, track_running_stats=True)\n",
              "      (relu): ReLU(inplace=True)\n",
              "      (conv2): Conv2d(128, 128, kernel_size=(3, 3), stride=(1, 1), padding=(1, 1), bias=False)\n",
              "      (bn2): BatchNorm2d(128, eps=1e-05, momentum=0.1, affine=True, track_running_stats=True)\n",
              "    )\n",
              "  )\n",
              "  (layer3): Sequential(\n",
              "    (0): BasicBlock(\n",
              "      (conv1): Conv2d(128, 256, kernel_size=(3, 3), stride=(2, 2), padding=(1, 1), bias=False)\n",
              "      (bn1): BatchNorm2d(256, eps=1e-05, momentum=0.1, affine=True, track_running_stats=True)\n",
              "      (relu): ReLU(inplace=True)\n",
              "      (conv2): Conv2d(256, 256, kernel_size=(3, 3), stride=(1, 1), padding=(1, 1), bias=False)\n",
              "      (bn2): BatchNorm2d(256, eps=1e-05, momentum=0.1, affine=True, track_running_stats=True)\n",
              "      (downsample): Sequential(\n",
              "        (0): Conv2d(128, 256, kernel_size=(1, 1), stride=(2, 2), bias=False)\n",
              "        (1): BatchNorm2d(256, eps=1e-05, momentum=0.1, affine=True, track_running_stats=True)\n",
              "      )\n",
              "    )\n",
              "    (1): BasicBlock(\n",
              "      (conv1): Conv2d(256, 256, kernel_size=(3, 3), stride=(1, 1), padding=(1, 1), bias=False)\n",
              "      (bn1): BatchNorm2d(256, eps=1e-05, momentum=0.1, affine=True, track_running_stats=True)\n",
              "      (relu): ReLU(inplace=True)\n",
              "      (conv2): Conv2d(256, 256, kernel_size=(3, 3), stride=(1, 1), padding=(1, 1), bias=False)\n",
              "      (bn2): BatchNorm2d(256, eps=1e-05, momentum=0.1, affine=True, track_running_stats=True)\n",
              "    )\n",
              "  )\n",
              "  (layer4): Sequential(\n",
              "    (0): BasicBlock(\n",
              "      (conv1): Conv2d(256, 512, kernel_size=(3, 3), stride=(2, 2), padding=(1, 1), bias=False)\n",
              "      (bn1): BatchNorm2d(512, eps=1e-05, momentum=0.1, affine=True, track_running_stats=True)\n",
              "      (relu): ReLU(inplace=True)\n",
              "      (conv2): Conv2d(512, 512, kernel_size=(3, 3), stride=(1, 1), padding=(1, 1), bias=False)\n",
              "      (bn2): BatchNorm2d(512, eps=1e-05, momentum=0.1, affine=True, track_running_stats=True)\n",
              "      (downsample): Sequential(\n",
              "        (0): Conv2d(256, 512, kernel_size=(1, 1), stride=(2, 2), bias=False)\n",
              "        (1): BatchNorm2d(512, eps=1e-05, momentum=0.1, affine=True, track_running_stats=True)\n",
              "      )\n",
              "    )\n",
              "    (1): BasicBlock(\n",
              "      (conv1): Conv2d(512, 512, kernel_size=(3, 3), stride=(1, 1), padding=(1, 1), bias=False)\n",
              "      (bn1): BatchNorm2d(512, eps=1e-05, momentum=0.1, affine=True, track_running_stats=True)\n",
              "      (relu): ReLU(inplace=True)\n",
              "      (conv2): Conv2d(512, 512, kernel_size=(3, 3), stride=(1, 1), padding=(1, 1), bias=False)\n",
              "      (bn2): BatchNorm2d(512, eps=1e-05, momentum=0.1, affine=True, track_running_stats=True)\n",
              "    )\n",
              "  )\n",
              "  (avgpool): AdaptiveAvgPool2d(output_size=(1, 1))\n",
              "  (fc): Linear(in_features=512, out_features=5, bias=True)\n",
              ")"
            ]
          },
          "metadata": {},
          "execution_count": 5
        }
      ]
    },
    {
      "cell_type": "code",
      "source": [
        "criterion = nn.CrossEntropyLoss()\n",
        "optimizer = optim.Adam(model.parameters(), lr=0.001, betas=(0.9, 0.999), eps=1e-08, weight_decay=0.1, amsgrad=False)"
      ],
      "metadata": {
        "id": "i73wigB8x8iu"
      },
      "execution_count": 6,
      "outputs": []
    },
    {
      "cell_type": "code",
      "source": [
        "def train(model, train_loader, criterion, optimizer, device):\n",
        "    # Set the model to training mode\n",
        "    model.train()\n",
        "\n",
        "    # Initialize variables to keep track of training loss and accuracy\n",
        "    train_loss = 0.0\n",
        "    train_acc = 0.0\n",
        "\n",
        "    # Process the images in batches\n",
        "    for batch_idx, (data, target) in enumerate(train_loader):\n",
        "        # Move the data to the device\n",
        "        data, target = data.to(device), target.to(device).long()\n",
        "\n",
        "        # Reset the optimizer\n",
        "        optimizer.zero_grad()\n",
        "\n",
        "        # Push the data forward through the model layers\n",
        "        output = model(data)\n",
        "\n",
        "        # Get the loss\n",
        "        loss = criterion(output, target)\n",
        "\n",
        "        # Compute gradients and backpropagate\n",
        "        loss.backward()\n",
        "        optimizer.step()\n",
        "\n",
        "        # Update the training loss and accuracy\n",
        "        train_loss += loss.item() * data.size(0)\n",
        "        _, predicted = torch.max(output, 1)\n",
        "        train_acc += (predicted == target).sum().item()\n",
        "\n",
        "        # Print progress every 100 batches\n",
        "        if (batch_idx + 1) % 100 == 0:\n",
        "            print('Batch [{}/{}], Loss: {:.4f}, Accuracy: {:.2f}%'\n",
        "                  .format(batch_idx + 1, len(train_loader), train_loss / ((batch_idx + 1) * data.size(0)),\n",
        "                          100.0 * train_acc / ((batch_idx + 1) * data.size(0))))\n",
        "\n",
        "    # Compute the average training loss and accuracy for the epoch\n",
        "    avg_train_loss = train_loss / len(train_loader.dataset)\n",
        "    avg_train_acc = 100.0 * train_acc / len(train_loader.dataset)\n",
        "\n",
        "    return avg_train_loss, avg_train_acc\n"
      ],
      "metadata": {
        "id": "kvuqbd7on7qR"
      },
      "execution_count": 7,
      "outputs": []
    },
    {
      "cell_type": "code",
      "source": [
        "for epoch in range(30):\n",
        "    # Train the model for one epoch\n",
        "    train_loss, train_acc = train(model, train_loader, criterion, optimizer, device)"
      ],
      "metadata": {
        "colab": {
          "base_uri": "https://localhost:8080/"
        },
        "id": "8B9oiAH5n-Pb",
        "outputId": "6cd13023-1d25-4098-8a86-28e24c5b9406"
      },
      "execution_count": 8,
      "outputs": [
        {
          "output_type": "stream",
          "name": "stdout",
          "text": [
            "Batch [100/469], Loss: 0.3112, Accuracy: 89.59%\n",
            "Batch [200/469], Loss: 0.2906, Accuracy: 90.29%\n",
            "Batch [300/469], Loss: 0.2816, Accuracy: 90.57%\n",
            "Batch [400/469], Loss: 0.2793, Accuracy: 90.75%\n",
            "Batch [100/469], Loss: 0.2564, Accuracy: 92.09%\n",
            "Batch [200/469], Loss: 0.2465, Accuracy: 92.38%\n",
            "Batch [300/469], Loss: 0.2516, Accuracy: 92.26%\n",
            "Batch [400/469], Loss: 0.2518, Accuracy: 92.24%\n",
            "Batch [100/469], Loss: 0.2640, Accuracy: 91.80%\n",
            "Batch [200/469], Loss: 0.2540, Accuracy: 92.38%\n",
            "Batch [300/469], Loss: 0.2575, Accuracy: 92.32%\n",
            "Batch [400/469], Loss: 0.2544, Accuracy: 92.61%\n",
            "Batch [100/469], Loss: 0.2634, Accuracy: 93.56%\n",
            "Batch [200/469], Loss: 0.2682, Accuracy: 93.66%\n",
            "Batch [300/469], Loss: 0.2750, Accuracy: 93.72%\n",
            "Batch [400/469], Loss: 0.2782, Accuracy: 93.91%\n",
            "Batch [100/469], Loss: 0.3033, Accuracy: 94.94%\n",
            "Batch [200/469], Loss: 0.3008, Accuracy: 94.97%\n",
            "Batch [300/469], Loss: 0.3023, Accuracy: 94.95%\n",
            "Batch [400/469], Loss: 0.3007, Accuracy: 95.00%\n",
            "Batch [100/469], Loss: 0.2783, Accuracy: 95.66%\n",
            "Batch [200/469], Loss: 0.2811, Accuracy: 95.56%\n",
            "Batch [300/469], Loss: 0.2812, Accuracy: 95.55%\n",
            "Batch [400/469], Loss: 0.2796, Accuracy: 95.60%\n",
            "Batch [100/469], Loss: 0.2720, Accuracy: 96.00%\n",
            "Batch [200/469], Loss: 0.2758, Accuracy: 95.83%\n",
            "Batch [300/469], Loss: 0.2778, Accuracy: 95.71%\n",
            "Batch [400/469], Loss: 0.2743, Accuracy: 95.85%\n",
            "Batch [100/469], Loss: 0.2734, Accuracy: 95.88%\n",
            "Batch [200/469], Loss: 0.2709, Accuracy: 95.95%\n",
            "Batch [300/469], Loss: 0.2699, Accuracy: 95.93%\n",
            "Batch [400/469], Loss: 0.2712, Accuracy: 95.85%\n",
            "Batch [100/469], Loss: 0.2754, Accuracy: 95.47%\n",
            "Batch [200/469], Loss: 0.2700, Accuracy: 95.80%\n",
            "Batch [300/469], Loss: 0.2669, Accuracy: 95.96%\n",
            "Batch [400/469], Loss: 0.2668, Accuracy: 95.99%\n",
            "Batch [100/469], Loss: 0.2589, Accuracy: 96.17%\n",
            "Batch [200/469], Loss: 0.2588, Accuracy: 96.17%\n",
            "Batch [300/469], Loss: 0.2585, Accuracy: 96.16%\n",
            "Batch [400/469], Loss: 0.2571, Accuracy: 96.27%\n",
            "Batch [100/469], Loss: 0.2570, Accuracy: 96.14%\n",
            "Batch [200/469], Loss: 0.2595, Accuracy: 96.22%\n",
            "Batch [300/469], Loss: 0.2590, Accuracy: 96.15%\n",
            "Batch [400/469], Loss: 0.2622, Accuracy: 96.00%\n",
            "Batch [100/469], Loss: 0.2542, Accuracy: 96.16%\n",
            "Batch [200/469], Loss: 0.2587, Accuracy: 95.98%\n",
            "Batch [300/469], Loss: 0.2591, Accuracy: 96.04%\n",
            "Batch [400/469], Loss: 0.2559, Accuracy: 96.16%\n",
            "Batch [100/469], Loss: 0.2493, Accuracy: 96.39%\n",
            "Batch [200/469], Loss: 0.2510, Accuracy: 96.30%\n",
            "Batch [300/469], Loss: 0.2536, Accuracy: 96.16%\n",
            "Batch [400/469], Loss: 0.2517, Accuracy: 96.23%\n",
            "Batch [100/469], Loss: 0.2520, Accuracy: 96.25%\n",
            "Batch [200/469], Loss: 0.2477, Accuracy: 96.38%\n",
            "Batch [300/469], Loss: 0.2469, Accuracy: 96.41%\n",
            "Batch [400/469], Loss: 0.2510, Accuracy: 96.26%\n",
            "Batch [100/469], Loss: 0.2410, Accuracy: 96.62%\n",
            "Batch [200/469], Loss: 0.2429, Accuracy: 96.53%\n",
            "Batch [300/469], Loss: 0.2458, Accuracy: 96.40%\n",
            "Batch [400/469], Loss: 0.2481, Accuracy: 96.33%\n",
            "Batch [100/469], Loss: 0.2485, Accuracy: 96.31%\n",
            "Batch [200/469], Loss: 0.2505, Accuracy: 96.18%\n",
            "Batch [300/469], Loss: 0.2461, Accuracy: 96.34%\n",
            "Batch [400/469], Loss: 0.2481, Accuracy: 96.25%\n",
            "Batch [100/469], Loss: 0.2496, Accuracy: 96.00%\n",
            "Batch [200/469], Loss: 0.2475, Accuracy: 96.23%\n",
            "Batch [300/469], Loss: 0.2467, Accuracy: 96.31%\n",
            "Batch [400/469], Loss: 0.2455, Accuracy: 96.33%\n",
            "Batch [100/469], Loss: 0.2251, Accuracy: 96.94%\n",
            "Batch [200/469], Loss: 0.2432, Accuracy: 96.38%\n",
            "Batch [300/469], Loss: 0.2472, Accuracy: 96.27%\n",
            "Batch [400/469], Loss: 0.2475, Accuracy: 96.20%\n",
            "Batch [100/469], Loss: 0.2447, Accuracy: 96.27%\n",
            "Batch [200/469], Loss: 0.2458, Accuracy: 96.30%\n",
            "Batch [300/469], Loss: 0.2469, Accuracy: 96.24%\n",
            "Batch [400/469], Loss: 0.2447, Accuracy: 96.38%\n",
            "Batch [100/469], Loss: 0.2471, Accuracy: 96.03%\n",
            "Batch [200/469], Loss: 0.2527, Accuracy: 96.06%\n",
            "Batch [300/469], Loss: 0.2492, Accuracy: 96.15%\n",
            "Batch [400/469], Loss: 0.2470, Accuracy: 96.21%\n",
            "Batch [100/469], Loss: 0.2509, Accuracy: 96.19%\n",
            "Batch [200/469], Loss: 0.2504, Accuracy: 96.20%\n",
            "Batch [300/469], Loss: 0.2460, Accuracy: 96.39%\n",
            "Batch [400/469], Loss: 0.2465, Accuracy: 96.33%\n",
            "Batch [100/469], Loss: 0.2428, Accuracy: 96.14%\n",
            "Batch [200/469], Loss: 0.2414, Accuracy: 96.23%\n",
            "Batch [300/469], Loss: 0.2423, Accuracy: 96.26%\n",
            "Batch [400/469], Loss: 0.2450, Accuracy: 96.20%\n",
            "Batch [100/469], Loss: 0.2494, Accuracy: 96.09%\n",
            "Batch [200/469], Loss: 0.2464, Accuracy: 96.27%\n",
            "Batch [300/469], Loss: 0.2454, Accuracy: 96.36%\n",
            "Batch [400/469], Loss: 0.2478, Accuracy: 96.25%\n",
            "Batch [100/469], Loss: 0.2586, Accuracy: 95.98%\n",
            "Batch [200/469], Loss: 0.2522, Accuracy: 96.15%\n",
            "Batch [300/469], Loss: 0.2501, Accuracy: 96.16%\n",
            "Batch [400/469], Loss: 0.2490, Accuracy: 96.19%\n",
            "Batch [100/469], Loss: 0.2426, Accuracy: 96.52%\n",
            "Batch [200/469], Loss: 0.2421, Accuracy: 96.49%\n",
            "Batch [300/469], Loss: 0.2473, Accuracy: 96.35%\n",
            "Batch [400/469], Loss: 0.2464, Accuracy: 96.38%\n",
            "Batch [100/469], Loss: 0.2373, Accuracy: 96.72%\n",
            "Batch [200/469], Loss: 0.2363, Accuracy: 96.73%\n",
            "Batch [300/469], Loss: 0.2401, Accuracy: 96.60%\n",
            "Batch [400/469], Loss: 0.2424, Accuracy: 96.50%\n",
            "Batch [100/469], Loss: 0.2403, Accuracy: 96.19%\n",
            "Batch [200/469], Loss: 0.2449, Accuracy: 96.32%\n",
            "Batch [300/469], Loss: 0.2455, Accuracy: 96.32%\n",
            "Batch [400/469], Loss: 0.2444, Accuracy: 96.35%\n",
            "Batch [100/469], Loss: 0.2397, Accuracy: 96.55%\n",
            "Batch [200/469], Loss: 0.2419, Accuracy: 96.48%\n",
            "Batch [300/469], Loss: 0.2456, Accuracy: 96.45%\n",
            "Batch [400/469], Loss: 0.2451, Accuracy: 96.41%\n",
            "Batch [100/469], Loss: 0.2456, Accuracy: 96.16%\n",
            "Batch [200/469], Loss: 0.2416, Accuracy: 96.32%\n",
            "Batch [300/469], Loss: 0.2439, Accuracy: 96.25%\n",
            "Batch [400/469], Loss: 0.2461, Accuracy: 96.14%\n",
            "Batch [100/469], Loss: 0.2506, Accuracy: 96.33%\n",
            "Batch [200/469], Loss: 0.2474, Accuracy: 96.28%\n",
            "Batch [300/469], Loss: 0.2462, Accuracy: 96.32%\n",
            "Batch [400/469], Loss: 0.2475, Accuracy: 96.27%\n"
          ]
        }
      ]
    },
    {
      "cell_type": "code",
      "source": [
        "def test(model, test_loader, criterion):\n",
        "    model.eval()  # Set the model to evaluation mode\n",
        "    test_loss = 0.0\n",
        "    correct = 0.0\n",
        "    with torch.no_grad():  # Disable gradient tracking\n",
        "        for batch_idx, (data, target) in enumerate(test_loader):\n",
        "            # Move the data to the device\n",
        "            data, target = data.to(device), target.to(device).long()\n",
        "            output = model(data)  # Push the data forward through the model layers\n",
        "            test_loss = criterion(output, target)  # Get the loss\n",
        "            test_loss += test_loss.item() * data.size(0)\n",
        "            _, pred = torch.max(output, 1)\n",
        "            #pred = output.argmax(dim=1, keepdim=True)  # Get the index of the highest probability\n",
        "            correct += pred.eq(target.view_as(pred)).sum().item()  # Update the number of correct predictions\n",
        "\n",
        "    # Print the average loss and accuracy for the test set\n",
        "    test_loss /= len(test_loader.dataset)\n",
        "    accuracy = 100. * correct / len(test_loader.dataset)\n",
        "    print('Test set | Average loss: {:.4f}, Accuracy: {}/{} ({:.2f}%)'.format(\n",
        "        test_loss, correct, len(test_loader.dataset), accuracy))\n",
        "    return test_loss, accuracy"
      ],
      "metadata": {
        "id": "slf8Xexyo9d5"
      },
      "execution_count": 9,
      "outputs": []
    },
    {
      "cell_type": "code",
      "source": [
        "#for epoch in range(30):\n",
        "test_loss, test_acc = test(model, test_loader, criterion)"
      ],
      "metadata": {
        "colab": {
          "base_uri": "https://localhost:8080/"
        },
        "id": "MtnCt7Foo_U1",
        "outputId": "d51d8118-3ba1-4d3b-9f3f-b9af92c7acb3"
      },
      "execution_count": 10,
      "outputs": [
        {
          "output_type": "stream",
          "name": "stdout",
          "text": [
            "Test set | Average loss: 0.0006, Accuracy: 4823.0/5000 (96.46%)\n"
          ]
        }
      ]
    },
    {
      "cell_type": "code",
      "execution_count": 11,
      "metadata": {
        "colab": {
          "base_uri": "https://localhost:8080/"
        },
        "id": "K5s3StXULA07",
        "outputId": "0a4ff1c3-0309-43d0-d00c-fc115fc08429"
      },
      "outputs": [
        {
          "output_type": "stream",
          "name": "stdout",
          "text": [
            "Looking in indexes: https://pypi.org/simple, https://us-python.pkg.dev/colab-wheels/public/simple/\n",
            "Collecting wandb\n",
            "  Downloading wandb-0.14.2-py3-none-any.whl (2.0 MB)\n",
            "\u001b[2K     \u001b[90m━━━━━━━━━━━━━━━━━━━━━━━━━━━━━━━━━━━━━━━━\u001b[0m \u001b[32m2.0/2.0 MB\u001b[0m \u001b[31m52.7 MB/s\u001b[0m eta \u001b[36m0:00:00\u001b[0m\n",
            "\u001b[?25hRequirement already satisfied: psutil>=5.0.0 in /usr/local/lib/python3.9/dist-packages (from wandb) (5.9.4)\n",
            "Collecting sentry-sdk>=1.0.0\n",
            "  Downloading sentry_sdk-1.19.1-py2.py3-none-any.whl (199 kB)\n",
            "\u001b[2K     \u001b[90m━━━━━━━━━━━━━━━━━━━━━━━━━━━━━━━━━━━━━━\u001b[0m \u001b[32m199.2/199.2 kB\u001b[0m \u001b[31m27.8 MB/s\u001b[0m eta \u001b[36m0:00:00\u001b[0m\n",
            "\u001b[?25hRequirement already satisfied: appdirs>=1.4.3 in /usr/local/lib/python3.9/dist-packages (from wandb) (1.4.4)\n",
            "Requirement already satisfied: setuptools in /usr/local/lib/python3.9/dist-packages (from wandb) (67.6.1)\n",
            "Requirement already satisfied: typing-extensions in /usr/local/lib/python3.9/dist-packages (from wandb) (4.5.0)\n",
            "Collecting setproctitle\n",
            "  Downloading setproctitle-1.3.2-cp39-cp39-manylinux_2_5_x86_64.manylinux1_x86_64.manylinux_2_17_x86_64.manylinux2014_x86_64.whl (30 kB)\n",
            "Requirement already satisfied: protobuf!=4.21.0,<5,>=3.15.0 in /usr/local/lib/python3.9/dist-packages (from wandb) (3.20.3)\n",
            "Collecting pathtools\n",
            "  Downloading pathtools-0.1.2.tar.gz (11 kB)\n",
            "  Preparing metadata (setup.py) ... \u001b[?25l\u001b[?25hdone\n",
            "Collecting GitPython!=3.1.29,>=1.0.0\n",
            "  Downloading GitPython-3.1.31-py3-none-any.whl (184 kB)\n",
            "\u001b[2K     \u001b[90m━━━━━━━━━━━━━━━━━━━━━━━━━━━━━━━━━━━━━━\u001b[0m \u001b[32m184.3/184.3 kB\u001b[0m \u001b[31m22.7 MB/s\u001b[0m eta \u001b[36m0:00:00\u001b[0m\n",
            "\u001b[?25hRequirement already satisfied: Click!=8.0.0,>=7.0 in /usr/local/lib/python3.9/dist-packages (from wandb) (8.1.3)\n",
            "Requirement already satisfied: PyYAML in /usr/local/lib/python3.9/dist-packages (from wandb) (6.0)\n",
            "Collecting docker-pycreds>=0.4.0\n",
            "  Downloading docker_pycreds-0.4.0-py2.py3-none-any.whl (9.0 kB)\n",
            "Requirement already satisfied: requests<3,>=2.0.0 in /usr/local/lib/python3.9/dist-packages (from wandb) (2.27.1)\n",
            "Requirement already satisfied: six>=1.4.0 in /usr/local/lib/python3.9/dist-packages (from docker-pycreds>=0.4.0->wandb) (1.16.0)\n",
            "Collecting gitdb<5,>=4.0.1\n",
            "  Downloading gitdb-4.0.10-py3-none-any.whl (62 kB)\n",
            "\u001b[2K     \u001b[90m━━━━━━━━━━━━━━━━━━━━━━━━━━━━━━━━━━━━━━━━\u001b[0m \u001b[32m62.7/62.7 kB\u001b[0m \u001b[31m9.0 MB/s\u001b[0m eta \u001b[36m0:00:00\u001b[0m\n",
            "\u001b[?25hRequirement already satisfied: idna<4,>=2.5 in /usr/local/lib/python3.9/dist-packages (from requests<3,>=2.0.0->wandb) (3.4)\n",
            "Requirement already satisfied: urllib3<1.27,>=1.21.1 in /usr/local/lib/python3.9/dist-packages (from requests<3,>=2.0.0->wandb) (1.26.15)\n",
            "Requirement already satisfied: charset-normalizer~=2.0.0 in /usr/local/lib/python3.9/dist-packages (from requests<3,>=2.0.0->wandb) (2.0.12)\n",
            "Requirement already satisfied: certifi>=2017.4.17 in /usr/local/lib/python3.9/dist-packages (from requests<3,>=2.0.0->wandb) (2022.12.7)\n",
            "Collecting smmap<6,>=3.0.1\n",
            "  Downloading smmap-5.0.0-py3-none-any.whl (24 kB)\n",
            "Building wheels for collected packages: pathtools\n",
            "  Building wheel for pathtools (setup.py) ... \u001b[?25l\u001b[?25hdone\n",
            "  Created wheel for pathtools: filename=pathtools-0.1.2-py3-none-any.whl size=8807 sha256=9387a3db192b729255ee87535db6d4ddc1a0a885c727973e5a9c8c8adfc8cacc\n",
            "  Stored in directory: /root/.cache/pip/wheels/b7/0a/67/ada2a22079218c75a88361c0782855cc72aebc4d18d0289d05\n",
            "Successfully built pathtools\n",
            "Installing collected packages: pathtools, smmap, setproctitle, sentry-sdk, docker-pycreds, gitdb, GitPython, wandb\n",
            "Successfully installed GitPython-3.1.31 docker-pycreds-0.4.0 gitdb-4.0.10 pathtools-0.1.2 sentry-sdk-1.19.1 setproctitle-1.3.2 smmap-5.0.0 wandb-0.14.2\n"
          ]
        }
      ],
      "source": [
        "%pip install wandb"
      ]
    },
    {
      "cell_type": "code",
      "source": [
        "import wandb \n",
        "wandb.login()"
      ],
      "metadata": {
        "colab": {
          "base_uri": "https://localhost:8080/",
          "height": 121
        },
        "id": "YGp5Q3_ELHQ0",
        "outputId": "8f9b0624-6008-46f4-e40b-e937849583ab"
      },
      "execution_count": 12,
      "outputs": [
        {
          "output_type": "display_data",
          "data": {
            "text/plain": [
              "<IPython.core.display.Javascript object>"
            ],
            "application/javascript": [
              "\n",
              "        window._wandbApiKey = new Promise((resolve, reject) => {\n",
              "            function loadScript(url) {\n",
              "            return new Promise(function(resolve, reject) {\n",
              "                let newScript = document.createElement(\"script\");\n",
              "                newScript.onerror = reject;\n",
              "                newScript.onload = resolve;\n",
              "                document.body.appendChild(newScript);\n",
              "                newScript.src = url;\n",
              "            });\n",
              "            }\n",
              "            loadScript(\"https://cdn.jsdelivr.net/npm/postmate/build/postmate.min.js\").then(() => {\n",
              "            const iframe = document.createElement('iframe')\n",
              "            iframe.style.cssText = \"width:0;height:0;border:none\"\n",
              "            document.body.appendChild(iframe)\n",
              "            const handshake = new Postmate({\n",
              "                container: iframe,\n",
              "                url: 'https://wandb.ai/authorize'\n",
              "            });\n",
              "            const timeout = setTimeout(() => reject(\"Couldn't auto authenticate\"), 5000)\n",
              "            handshake.then(function(child) {\n",
              "                child.on('authorize', data => {\n",
              "                    clearTimeout(timeout)\n",
              "                    resolve(data)\n",
              "                });\n",
              "            });\n",
              "            })\n",
              "        });\n",
              "    "
            ]
          },
          "metadata": {}
        },
        {
          "output_type": "stream",
          "name": "stderr",
          "text": [
            "\u001b[34m\u001b[1mwandb\u001b[0m: Logging into wandb.ai. (Learn how to deploy a W&B server locally: https://wandb.me/wandb-server)\n",
            "\u001b[34m\u001b[1mwandb\u001b[0m: You can find your API key in your browser here: https://wandb.ai/authorize\n",
            "wandb: Paste an API key from your profile and hit enter, or press ctrl+c to quit:"
          ]
        },
        {
          "name": "stdout",
          "output_type": "stream",
          "text": [
            " ··········\n"
          ]
        },
        {
          "output_type": "stream",
          "name": "stderr",
          "text": [
            "\u001b[34m\u001b[1mwandb\u001b[0m: Appending key for api.wandb.ai to your netrc file: /root/.netrc\n"
          ]
        },
        {
          "output_type": "execute_result",
          "data": {
            "text/plain": [
              "True"
            ]
          },
          "metadata": {},
          "execution_count": 12
        }
      ]
    },
    {
      "cell_type": "code",
      "source": [
        "import wandb\n",
        "import random\n",
        "\n",
        "# start a new wandb run to track this script\n",
        "wandb.init(\n",
        "    # set the wandb project where this run will be logged\n",
        "    project=\"FashionMNIST Project\",\n",
        "    \n",
        "    # track hyperparameters and run metadata\n",
        "    config={\n",
        "    \"learning_rate\": 0.001,\n",
        "    \"architecture\": \"ResNet18\",\n",
        "    \"dataset\": \"FashionMNIST\",\n",
        "    \"epochs\": 30,\n",
        "    }\n",
        ")\n",
        "\n",
        "# simulate training\n",
        "epochs = 30\n",
        "for epoch in range(epochs):\n",
        "    # log metrics to wandb\n",
        "    wandb.log({\"acc\": train_acc, \"loss\": train_loss})\n",
        "    \n",
        "# [optional] finish the wandb run, necessary in notebooks\n",
        "wandb.finish()"
      ],
      "metadata": {
        "colab": {
          "base_uri": "https://localhost:8080/",
          "height": 393,
          "referenced_widgets": [
            "19b7e13bc800448784360c8162bb45ec",
            "b114ccbfe896481b8a618920337e8978",
            "b5f6d6421c5a44549bdb213d15c06315",
            "4a72c0bc68a44c05a110c56a94928f17",
            "35b973a97f4845dbbe5fd86c9a8d037c",
            "01eb6d3c99394a08a994cd377824c653",
            "af3b67e77b2c407e962ab8773ca3b233",
            "2d2ace5a882f4b2b894d9ee66c70fd73"
          ]
        },
        "id": "to-GWXClPQID",
        "outputId": "0df5e4a3-4af7-4d6c-8643-be71e7dc7491"
      },
      "execution_count": 13,
      "outputs": [
        {
          "output_type": "stream",
          "name": "stderr",
          "text": [
            "\u001b[34m\u001b[1mwandb\u001b[0m: Currently logged in as: \u001b[33mprincyg561\u001b[0m (\u001b[33mssup_a\u001b[0m). Use \u001b[1m`wandb login --relogin`\u001b[0m to force relogin\n"
          ]
        },
        {
          "output_type": "display_data",
          "data": {
            "text/plain": [
              "<IPython.core.display.HTML object>"
            ],
            "text/html": [
              "Tracking run with wandb version 0.14.2"
            ]
          },
          "metadata": {}
        },
        {
          "output_type": "display_data",
          "data": {
            "text/plain": [
              "<IPython.core.display.HTML object>"
            ],
            "text/html": [
              "Run data is saved locally in <code>/content/wandb/run-20230417_173451-ophhi4mk</code>"
            ]
          },
          "metadata": {}
        },
        {
          "output_type": "display_data",
          "data": {
            "text/plain": [
              "<IPython.core.display.HTML object>"
            ],
            "text/html": [
              "Syncing run <strong><a href='https://wandb.ai/ssup_a/FashionMNIST%20Project/runs/ophhi4mk' target=\"_blank\">leafy-bush-1</a></strong> to <a href='https://wandb.ai/ssup_a/FashionMNIST%20Project' target=\"_blank\">Weights & Biases</a> (<a href='https://wandb.me/run' target=\"_blank\">docs</a>)<br/>"
            ]
          },
          "metadata": {}
        },
        {
          "output_type": "display_data",
          "data": {
            "text/plain": [
              "<IPython.core.display.HTML object>"
            ],
            "text/html": [
              " View project at <a href='https://wandb.ai/ssup_a/FashionMNIST%20Project' target=\"_blank\">https://wandb.ai/ssup_a/FashionMNIST%20Project</a>"
            ]
          },
          "metadata": {}
        },
        {
          "output_type": "display_data",
          "data": {
            "text/plain": [
              "<IPython.core.display.HTML object>"
            ],
            "text/html": [
              " View run at <a href='https://wandb.ai/ssup_a/FashionMNIST%20Project/runs/ophhi4mk' target=\"_blank\">https://wandb.ai/ssup_a/FashionMNIST%20Project/runs/ophhi4mk</a>"
            ]
          },
          "metadata": {}
        },
        {
          "output_type": "display_data",
          "data": {
            "text/plain": [
              "<IPython.core.display.HTML object>"
            ],
            "text/html": [
              "Waiting for W&B process to finish... <strong style=\"color:green\">(success).</strong>"
            ]
          },
          "metadata": {}
        },
        {
          "output_type": "display_data",
          "data": {
            "text/plain": [
              "VBox(children=(Label(value='0.001 MB of 0.009 MB uploaded (0.000 MB deduped)\\r'), FloatProgress(value=0.122958…"
            ],
            "application/vnd.jupyter.widget-view+json": {
              "version_major": 2,
              "version_minor": 0,
              "model_id": "19b7e13bc800448784360c8162bb45ec"
            }
          },
          "metadata": {}
        },
        {
          "output_type": "display_data",
          "data": {
            "text/plain": [
              "<IPython.core.display.HTML object>"
            ],
            "text/html": [
              "<style>\n",
              "    table.wandb td:nth-child(1) { padding: 0 10px; text-align: left ; width: auto;} td:nth-child(2) {text-align: left ; width: 100%}\n",
              "    .wandb-row { display: flex; flex-direction: row; flex-wrap: wrap; justify-content: flex-start; width: 100% }\n",
              "    .wandb-col { display: flex; flex-direction: column; flex-basis: 100%; flex: 1; padding: 10px; }\n",
              "    </style>\n",
              "<div class=\"wandb-row\"><div class=\"wandb-col\"><h3>Run history:</h3><br/><table class=\"wandb\"><tr><td>acc</td><td>▁▁▁▁▁▁▁▁▁▁▁▁▁▁▁▁▁▁▁▁▁▁▁▁▁▁▁▁▁▁</td></tr><tr><td>loss</td><td>▁▁▁▁▁▁▁▁▁▁▁▁▁▁▁▁▁▁▁▁▁▁▁▁▁▁▁▁▁▁</td></tr></table><br/></div><div class=\"wandb-col\"><h3>Run summary:</h3><br/><table class=\"wandb\"><tr><td>acc</td><td>96.34</td></tr><tr><td>loss</td><td>0.24724</td></tr></table><br/></div></div>"
            ]
          },
          "metadata": {}
        },
        {
          "output_type": "display_data",
          "data": {
            "text/plain": [
              "<IPython.core.display.HTML object>"
            ],
            "text/html": [
              " View run <strong style=\"color:#cdcd00\">leafy-bush-1</strong> at: <a href='https://wandb.ai/ssup_a/FashionMNIST%20Project/runs/ophhi4mk' target=\"_blank\">https://wandb.ai/ssup_a/FashionMNIST%20Project/runs/ophhi4mk</a><br/>Synced 4 W&B file(s), 0 media file(s), 0 artifact file(s) and 0 other file(s)"
            ]
          },
          "metadata": {}
        },
        {
          "output_type": "display_data",
          "data": {
            "text/plain": [
              "<IPython.core.display.HTML object>"
            ],
            "text/html": [
              "Find logs at: <code>./wandb/run-20230417_173451-ophhi4mk/logs</code>"
            ]
          },
          "metadata": {}
        }
      ]
    },
    {
      "cell_type": "code",
      "source": [
        "class ResNet18_model2(nn.Module):\n",
        "    def __init__(self, num_classes=5):\n",
        "        super(ResNet18_model2, self).__init__()\n",
        "        self.resnet18 = models.resnet18(pretrained=True)\n",
        "        self.resnet18.conv1 = nn.Conv2d(1, 64, kernel_size=(3, 3), stride=(2, 2), padding=(3, 3), bias=False)\n",
        "        self.resnet18.fc = nn.Linear(512, num_classes)\n",
        "\n",
        "    def forward(self, x):\n",
        "        x = F.tanh(self.resnet18(x))\n",
        "        return x\n",
        "\n",
        "device = torch.device('cuda' if torch.cuda.is_available() else 'cpu')\n",
        "Model2 = ResNet18_model2()\n",
        "Model2.to(device)\n",
        "\n",
        "criterion = nn.CrossEntropyLoss()\n",
        "optimizer_sgd = optim.SGD(Model2.parameters(), lr=0.01, momentum=0.9)\n",
        "\n",
        "for epoch in range(30):\n",
        "    # Train the model for 30 epoch\n",
        "    train_loss_Model2, train_acc_Model2 = train(Model2, train_loader, criterion, optimizer_sgd, device)"
      ],
      "metadata": {
        "colab": {
          "base_uri": "https://localhost:8080/"
        },
        "id": "fEsGsogZ-Bix",
        "outputId": "5aab9ebc-05c9-4a91-d598-9e07f4e29fd8"
      },
      "execution_count": 14,
      "outputs": [
        {
          "output_type": "stream",
          "name": "stderr",
          "text": [
            "/usr/local/lib/python3.9/dist-packages/torchvision/models/_utils.py:208: UserWarning: The parameter 'pretrained' is deprecated since 0.13 and may be removed in the future, please use 'weights' instead.\n",
            "  warnings.warn(\n",
            "/usr/local/lib/python3.9/dist-packages/torchvision/models/_utils.py:223: UserWarning: Arguments other than a weight enum or `None` for 'weights' are deprecated since 0.13 and may be removed in the future. The current behavior is equivalent to passing `weights=ResNet18_Weights.IMAGENET1K_V1`. You can also use `weights=ResNet18_Weights.DEFAULT` to get the most up-to-date weights.\n",
            "  warnings.warn(msg)\n",
            "Downloading: \"https://download.pytorch.org/models/resnet18-f37072fd.pth\" to /root/.cache/torch/hub/checkpoints/resnet18-f37072fd.pth\n",
            "100%|██████████| 44.7M/44.7M [00:00<00:00, 148MB/s]\n"
          ]
        },
        {
          "output_type": "stream",
          "name": "stdout",
          "text": [
            "Batch [100/469], Loss: 0.6592, Accuracy: 86.55%\n",
            "Batch [200/469], Loss: 0.6082, Accuracy: 89.36%\n",
            "Batch [300/469], Loss: 0.5876, Accuracy: 90.65%\n",
            "Batch [400/469], Loss: 0.5740, Accuracy: 91.36%\n",
            "Batch [100/469], Loss: 0.5097, Accuracy: 95.38%\n",
            "Batch [200/469], Loss: 0.5132, Accuracy: 95.23%\n",
            "Batch [300/469], Loss: 0.5138, Accuracy: 95.06%\n",
            "Batch [400/469], Loss: 0.5110, Accuracy: 95.21%\n",
            "Batch [100/469], Loss: 0.4867, Accuracy: 96.69%\n",
            "Batch [200/469], Loss: 0.4921, Accuracy: 96.48%\n",
            "Batch [300/469], Loss: 0.4905, Accuracy: 96.56%\n",
            "Batch [400/469], Loss: 0.4891, Accuracy: 96.64%\n",
            "Batch [100/469], Loss: 0.4788, Accuracy: 97.20%\n",
            "Batch [200/469], Loss: 0.4800, Accuracy: 97.06%\n",
            "Batch [300/469], Loss: 0.4801, Accuracy: 97.10%\n",
            "Batch [400/469], Loss: 0.4796, Accuracy: 97.13%\n",
            "Batch [100/469], Loss: 0.4765, Accuracy: 97.31%\n",
            "Batch [200/469], Loss: 0.4741, Accuracy: 97.41%\n",
            "Batch [300/469], Loss: 0.4728, Accuracy: 97.53%\n",
            "Batch [400/469], Loss: 0.4730, Accuracy: 97.48%\n",
            "Batch [100/469], Loss: 0.4657, Accuracy: 97.91%\n",
            "Batch [200/469], Loss: 0.4680, Accuracy: 97.80%\n",
            "Batch [300/469], Loss: 0.4677, Accuracy: 97.79%\n",
            "Batch [400/469], Loss: 0.4700, Accuracy: 97.59%\n",
            "Batch [100/469], Loss: 0.4633, Accuracy: 98.17%\n",
            "Batch [200/469], Loss: 0.4643, Accuracy: 98.14%\n",
            "Batch [300/469], Loss: 0.4656, Accuracy: 97.99%\n",
            "Batch [400/469], Loss: 0.4650, Accuracy: 98.05%\n",
            "Batch [100/469], Loss: 0.4644, Accuracy: 97.92%\n",
            "Batch [200/469], Loss: 0.4675, Accuracy: 97.85%\n",
            "Batch [300/469], Loss: 0.4671, Accuracy: 97.92%\n",
            "Batch [400/469], Loss: 0.4659, Accuracy: 98.00%\n",
            "Batch [100/469], Loss: 0.4554, Accuracy: 98.45%\n",
            "Batch [200/469], Loss: 0.4590, Accuracy: 98.28%\n",
            "Batch [300/469], Loss: 0.4588, Accuracy: 98.30%\n",
            "Batch [400/469], Loss: 0.4610, Accuracy: 98.20%\n",
            "Batch [100/469], Loss: 0.4546, Accuracy: 98.44%\n",
            "Batch [200/469], Loss: 0.4555, Accuracy: 98.43%\n",
            "Batch [300/469], Loss: 0.4563, Accuracy: 98.44%\n",
            "Batch [400/469], Loss: 0.4577, Accuracy: 98.42%\n",
            "Batch [100/469], Loss: 0.4620, Accuracy: 98.11%\n",
            "Batch [200/469], Loss: 0.4605, Accuracy: 98.28%\n",
            "Batch [300/469], Loss: 0.4585, Accuracy: 98.42%\n",
            "Batch [400/469], Loss: 0.4581, Accuracy: 98.48%\n",
            "Batch [100/469], Loss: 0.4541, Accuracy: 98.73%\n",
            "Batch [200/469], Loss: 0.4555, Accuracy: 98.64%\n",
            "Batch [300/469], Loss: 0.4559, Accuracy: 98.60%\n",
            "Batch [400/469], Loss: 0.4573, Accuracy: 98.52%\n",
            "Batch [100/469], Loss: 0.4513, Accuracy: 98.83%\n",
            "Batch [200/469], Loss: 0.4531, Accuracy: 98.72%\n",
            "Batch [300/469], Loss: 0.4543, Accuracy: 98.65%\n",
            "Batch [400/469], Loss: 0.4545, Accuracy: 98.62%\n",
            "Batch [100/469], Loss: 0.4494, Accuracy: 99.02%\n",
            "Batch [200/469], Loss: 0.4516, Accuracy: 98.88%\n",
            "Batch [300/469], Loss: 0.4525, Accuracy: 98.83%\n",
            "Batch [400/469], Loss: 0.4531, Accuracy: 98.78%\n",
            "Batch [100/469], Loss: 0.4479, Accuracy: 99.14%\n",
            "Batch [200/469], Loss: 0.4483, Accuracy: 99.12%\n",
            "Batch [300/469], Loss: 0.4490, Accuracy: 99.07%\n",
            "Batch [400/469], Loss: 0.4498, Accuracy: 99.01%\n",
            "Batch [100/469], Loss: 0.4472, Accuracy: 99.14%\n",
            "Batch [200/469], Loss: 0.4473, Accuracy: 99.17%\n",
            "Batch [300/469], Loss: 0.4480, Accuracy: 99.11%\n",
            "Batch [400/469], Loss: 0.4494, Accuracy: 99.00%\n",
            "Batch [100/469], Loss: 0.4513, Accuracy: 98.94%\n",
            "Batch [200/469], Loss: 0.4510, Accuracy: 98.95%\n",
            "Batch [300/469], Loss: 0.4497, Accuracy: 98.99%\n",
            "Batch [400/469], Loss: 0.4500, Accuracy: 98.95%\n",
            "Batch [100/469], Loss: 0.4476, Accuracy: 98.97%\n",
            "Batch [200/469], Loss: 0.4478, Accuracy: 99.05%\n",
            "Batch [300/469], Loss: 0.4477, Accuracy: 99.09%\n",
            "Batch [400/469], Loss: 0.4490, Accuracy: 99.01%\n",
            "Batch [100/469], Loss: 0.4455, Accuracy: 99.23%\n",
            "Batch [200/469], Loss: 0.4462, Accuracy: 99.20%\n",
            "Batch [300/469], Loss: 0.4456, Accuracy: 99.25%\n",
            "Batch [400/469], Loss: 0.4458, Accuracy: 99.24%\n",
            "Batch [100/469], Loss: 0.4517, Accuracy: 98.80%\n",
            "Batch [200/469], Loss: 0.4491, Accuracy: 99.00%\n",
            "Batch [300/469], Loss: 0.4488, Accuracy: 99.03%\n",
            "Batch [400/469], Loss: 0.4478, Accuracy: 99.08%\n",
            "Batch [100/469], Loss: 0.4436, Accuracy: 99.41%\n",
            "Batch [200/469], Loss: 0.4429, Accuracy: 99.41%\n",
            "Batch [300/469], Loss: 0.4450, Accuracy: 99.30%\n",
            "Batch [400/469], Loss: 0.4458, Accuracy: 99.23%\n",
            "Batch [100/469], Loss: 0.4499, Accuracy: 99.11%\n",
            "Batch [200/469], Loss: 0.4474, Accuracy: 99.21%\n",
            "Batch [300/469], Loss: 0.4477, Accuracy: 99.17%\n",
            "Batch [400/469], Loss: 0.4470, Accuracy: 99.20%\n",
            "Batch [100/469], Loss: 0.4411, Accuracy: 99.50%\n",
            "Batch [200/469], Loss: 0.4417, Accuracy: 99.47%\n",
            "Batch [300/469], Loss: 0.4427, Accuracy: 99.41%\n",
            "Batch [400/469], Loss: 0.4432, Accuracy: 99.36%\n",
            "Batch [100/469], Loss: 0.4453, Accuracy: 99.28%\n",
            "Batch [200/469], Loss: 0.4464, Accuracy: 99.21%\n",
            "Batch [300/469], Loss: 0.4461, Accuracy: 99.22%\n",
            "Batch [400/469], Loss: 0.4449, Accuracy: 99.27%\n",
            "Batch [100/469], Loss: 0.4388, Accuracy: 99.67%\n",
            "Batch [200/469], Loss: 0.4421, Accuracy: 99.49%\n",
            "Batch [300/469], Loss: 0.4450, Accuracy: 99.27%\n",
            "Batch [400/469], Loss: 0.4441, Accuracy: 99.32%\n",
            "Batch [100/469], Loss: 0.4420, Accuracy: 99.50%\n",
            "Batch [200/469], Loss: 0.4422, Accuracy: 99.45%\n",
            "Batch [300/469], Loss: 0.4416, Accuracy: 99.46%\n",
            "Batch [400/469], Loss: 0.4424, Accuracy: 99.43%\n",
            "Batch [100/469], Loss: 0.4404, Accuracy: 99.48%\n",
            "Batch [200/469], Loss: 0.4409, Accuracy: 99.51%\n",
            "Batch [300/469], Loss: 0.4413, Accuracy: 99.47%\n",
            "Batch [400/469], Loss: 0.4420, Accuracy: 99.44%\n",
            "Batch [100/469], Loss: 0.4434, Accuracy: 99.42%\n",
            "Batch [200/469], Loss: 0.4418, Accuracy: 99.50%\n",
            "Batch [300/469], Loss: 0.4415, Accuracy: 99.52%\n",
            "Batch [400/469], Loss: 0.4419, Accuracy: 99.49%\n",
            "Batch [100/469], Loss: 0.4443, Accuracy: 99.38%\n",
            "Batch [200/469], Loss: 0.4450, Accuracy: 99.33%\n",
            "Batch [300/469], Loss: 0.4439, Accuracy: 99.39%\n",
            "Batch [400/469], Loss: 0.4439, Accuracy: 99.35%\n",
            "Batch [100/469], Loss: 0.4404, Accuracy: 99.58%\n",
            "Batch [200/469], Loss: 0.4403, Accuracy: 99.58%\n",
            "Batch [300/469], Loss: 0.4413, Accuracy: 99.52%\n",
            "Batch [400/469], Loss: 0.4412, Accuracy: 99.52%\n"
          ]
        }
      ]
    },
    {
      "cell_type": "code",
      "source": [
        "# start a new wandb run to track this script\n",
        "wandb.init(\n",
        "    # set the wandb project where this run will be logged\n",
        "    project=\"FashionMNIST Project 2\",\n",
        "    \n",
        "    # track hyperparameters and run metadata\n",
        "    config={\n",
        "    \"learning_rate\": 0.001,\n",
        "    \"architecture\": \"ResNet18\",\n",
        "    \"dataset\": \"FashionMNIST\",\n",
        "    \"epochs\": 30,\n",
        "    }\n",
        ")\n",
        "\n",
        "# simulate training\n",
        "epochs = 30\n",
        "for epoch in range(epochs):\n",
        "    # log metrics to wandb\n",
        "    wandb.log({\"acc\": train_acc_Model2, \"loss\": train_loss_Model2})\n",
        "    \n",
        "# [optional] finish the wandb run, necessary in notebooks\n",
        "wandb.finish()"
      ],
      "metadata": {
        "id": "BSpCWftjPHaj",
        "colab": {
          "base_uri": "https://localhost:8080/",
          "height": 376,
          "referenced_widgets": [
            "4512587525b142c986ffcce67344e890",
            "278b3362c24345be86e42b63ce822803",
            "3fd42d6fb54c4281900e3f37f2e9d75f",
            "98c6092db7874ec1917423de862f8fea",
            "2b16a3d5b08548e69a6e65ba6b917d13",
            "c82e8282c66d4425b6de75c87eb43378",
            "548434d58c764f3e84cbcbb00e5191e0",
            "6b73cb1900c84841806952d5922af981"
          ]
        },
        "outputId": "373b28b7-3bb2-4474-e2b7-2a71cf9a8055"
      },
      "execution_count": 15,
      "outputs": [
        {
          "output_type": "display_data",
          "data": {
            "text/plain": [
              "<IPython.core.display.HTML object>"
            ],
            "text/html": [
              "Tracking run with wandb version 0.14.2"
            ]
          },
          "metadata": {}
        },
        {
          "output_type": "display_data",
          "data": {
            "text/plain": [
              "<IPython.core.display.HTML object>"
            ],
            "text/html": [
              "Run data is saved locally in <code>/content/wandb/run-20230417_173835-bw0o6qz4</code>"
            ]
          },
          "metadata": {}
        },
        {
          "output_type": "display_data",
          "data": {
            "text/plain": [
              "<IPython.core.display.HTML object>"
            ],
            "text/html": [
              "Syncing run <strong><a href='https://wandb.ai/ssup_a/FashionMNIST%20Project%202/runs/bw0o6qz4' target=\"_blank\">lemon-shape-1</a></strong> to <a href='https://wandb.ai/ssup_a/FashionMNIST%20Project%202' target=\"_blank\">Weights & Biases</a> (<a href='https://wandb.me/run' target=\"_blank\">docs</a>)<br/>"
            ]
          },
          "metadata": {}
        },
        {
          "output_type": "display_data",
          "data": {
            "text/plain": [
              "<IPython.core.display.HTML object>"
            ],
            "text/html": [
              " View project at <a href='https://wandb.ai/ssup_a/FashionMNIST%20Project%202' target=\"_blank\">https://wandb.ai/ssup_a/FashionMNIST%20Project%202</a>"
            ]
          },
          "metadata": {}
        },
        {
          "output_type": "display_data",
          "data": {
            "text/plain": [
              "<IPython.core.display.HTML object>"
            ],
            "text/html": [
              " View run at <a href='https://wandb.ai/ssup_a/FashionMNIST%20Project%202/runs/bw0o6qz4' target=\"_blank\">https://wandb.ai/ssup_a/FashionMNIST%20Project%202/runs/bw0o6qz4</a>"
            ]
          },
          "metadata": {}
        },
        {
          "output_type": "display_data",
          "data": {
            "text/plain": [
              "<IPython.core.display.HTML object>"
            ],
            "text/html": [
              "Waiting for W&B process to finish... <strong style=\"color:green\">(success).</strong>"
            ]
          },
          "metadata": {}
        },
        {
          "output_type": "display_data",
          "data": {
            "text/plain": [
              "VBox(children=(Label(value='0.001 MB of 0.009 MB uploaded (0.000 MB deduped)\\r'), FloatProgress(value=0.122803…"
            ],
            "application/vnd.jupyter.widget-view+json": {
              "version_major": 2,
              "version_minor": 0,
              "model_id": "4512587525b142c986ffcce67344e890"
            }
          },
          "metadata": {}
        },
        {
          "output_type": "display_data",
          "data": {
            "text/plain": [
              "<IPython.core.display.HTML object>"
            ],
            "text/html": [
              "<style>\n",
              "    table.wandb td:nth-child(1) { padding: 0 10px; text-align: left ; width: auto;} td:nth-child(2) {text-align: left ; width: 100%}\n",
              "    .wandb-row { display: flex; flex-direction: row; flex-wrap: wrap; justify-content: flex-start; width: 100% }\n",
              "    .wandb-col { display: flex; flex-direction: column; flex-basis: 100%; flex: 1; padding: 10px; }\n",
              "    </style>\n",
              "<div class=\"wandb-row\"><div class=\"wandb-col\"><h3>Run history:</h3><br/><table class=\"wandb\"><tr><td>acc</td><td>▁▁▁▁▁▁▁▁▁▁▁▁▁▁▁▁▁▁▁▁▁▁▁▁▁▁▁▁▁▁</td></tr><tr><td>loss</td><td>▁▁▁▁▁▁▁▁▁▁▁▁▁▁▁▁▁▁▁▁▁▁▁▁▁▁▁▁▁▁</td></tr></table><br/></div><div class=\"wandb-col\"><h3>Run summary:</h3><br/><table class=\"wandb\"><tr><td>acc</td><td>99.47667</td></tr><tr><td>loss</td><td>0.44176</td></tr></table><br/></div></div>"
            ]
          },
          "metadata": {}
        },
        {
          "output_type": "display_data",
          "data": {
            "text/plain": [
              "<IPython.core.display.HTML object>"
            ],
            "text/html": [
              " View run <strong style=\"color:#cdcd00\">lemon-shape-1</strong> at: <a href='https://wandb.ai/ssup_a/FashionMNIST%20Project%202/runs/bw0o6qz4' target=\"_blank\">https://wandb.ai/ssup_a/FashionMNIST%20Project%202/runs/bw0o6qz4</a><br/>Synced 4 W&B file(s), 0 media file(s), 0 artifact file(s) and 0 other file(s)"
            ]
          },
          "metadata": {}
        },
        {
          "output_type": "display_data",
          "data": {
            "text/plain": [
              "<IPython.core.display.HTML object>"
            ],
            "text/html": [
              "Find logs at: <code>./wandb/run-20230417_173835-bw0o6qz4/logs</code>"
            ]
          },
          "metadata": {}
        }
      ]
    }
  ]
}