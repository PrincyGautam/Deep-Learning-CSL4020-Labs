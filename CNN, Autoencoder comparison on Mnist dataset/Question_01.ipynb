{
  "nbformat": 4,
  "nbformat_minor": 0,
  "metadata": {
    "colab": {
      "provenance": []
    },
    "kernelspec": {
      "name": "python3",
      "display_name": "Python 3"
    },
    "language_info": {
      "name": "python"
    }
  },
  "cells": [
    {
      "cell_type": "markdown",
      "source": [
        "DD/MM/YY = 06/02/01"
      ],
      "metadata": {
        "id": "nods9GNCO87B"
      }
    },
    {
      "cell_type": "markdown",
      "source": [
        "ABC = 051"
      ],
      "metadata": {
        "id": "JyYIp-X0Plh_"
      }
    },
    {
      "cell_type": "markdown",
      "source": [
        "FIRST = PRINCY"
      ],
      "metadata": {
        "id": "CaCYztwJPqHe"
      }
    },
    {
      "cell_type": "markdown",
      "source": [
        "LAST = GAUTAM"
      ],
      "metadata": {
        "id": "EMd24LIxPxWA"
      }
    },
    {
      "cell_type": "markdown",
      "source": [
        "# Question 01"
      ],
      "metadata": {
        "id": "uKbdYuYw61nT"
      }
    },
    {
      "cell_type": "code",
      "source": [
        "import torch\n",
        "import torch.nn as nn\n",
        "import torch.optim as optim\n",
        "from torch.utils.data import Dataset, DataLoader\n",
        "import numpy as np\n",
        "import torchvision.transforms as transforms"
      ],
      "metadata": {
        "id": "xj3SFfpd2ToU"
      },
      "execution_count": 1,
      "outputs": []
    },
    {
      "cell_type": "code",
      "source": [
        "# Define the target 5 classes\n",
        "target_classes = [1, 3, 5, 7, 9]"
      ],
      "metadata": {
        "id": "kSbXRD1h2WKM"
      },
      "execution_count": 2,
      "outputs": []
    },
    {
      "cell_type": "code",
      "source": [
        "# Define the custom dataset class\n",
        "class MNIST_Dataset(Dataset):\n",
        "    def __init__(self, data, target, transform=None):\n",
        "        self.data = data\n",
        "        self.target = target\n",
        "        self.transform = transform\n",
        "        \n",
        "    def __len__(self):\n",
        "        return len(self.data)\n",
        "    \n",
        "    def __getitem__(self, idx):\n",
        "        image = self.data[idx].reshape(28, 28)\n",
        "        label = self.target[idx]\n",
        "        if self.transform:\n",
        "            image = self.transform(image)\n",
        "        return image, label"
      ],
      "metadata": {
        "id": "AyfrOCK22Y8I"
      },
      "execution_count": 3,
      "outputs": []
    },
    {
      "cell_type": "code",
      "source": [
        "# Load the MNIST dataset\n",
        "from sklearn.datasets import fetch_openml\n",
        "mnist = fetch_openml('mnist_784', version=1)\n",
        "X, y = mnist['data'], mnist['target']"
      ],
      "metadata": {
        "id": "g3Hlu0am2ftk"
      },
      "execution_count": 4,
      "outputs": []
    },
    {
      "cell_type": "code",
      "source": [
        "# Convert the target to numpy arrays and cast to int type\n",
        "y = y.astype(np.int64)"
      ],
      "metadata": {
        "id": "xle8l3kn2h-x"
      },
      "execution_count": 5,
      "outputs": []
    },
    {
      "cell_type": "code",
      "source": [
        "# Filter the data to include only the target 5 classes\n",
        "X_filtered = X[np.isin(y, target_classes)]\n",
        "y_filtered = y[np.isin(y, target_classes)]"
      ],
      "metadata": {
        "id": "rGjyiCbp2lN1"
      },
      "execution_count": 6,
      "outputs": []
    },
    {
      "cell_type": "code",
      "source": [
        "# Split the data into training and test sets\n",
        "from sklearn.model_selection import train_test_split\n",
        "X_train, X_test, y_train, y_test = train_test_split(X_filtered, y_filtered, test_size=0.2, random_state=42)"
      ],
      "metadata": {
        "id": "WoT1XAZS2nZQ"
      },
      "execution_count": 7,
      "outputs": []
    },
    {
      "cell_type": "code",
      "source": [
        "# Convert the data to tensors\n",
        "X_train = torch.tensor(X_train.values, dtype=torch.float32)\n",
        "y_train = torch.tensor(y_train.values, dtype=torch.int64)\n",
        "X_test = torch.tensor(X_test.values, dtype=torch.float32)\n",
        "y_test = torch.tensor(y_test.values, dtype=torch.int64)\n"
      ],
      "metadata": {
        "id": "DM59y7Xs2pol"
      },
      "execution_count": 8,
      "outputs": []
    },
    {
      "cell_type": "code",
      "source": [
        "import random\n",
        "class RandomGaussianNoise(object):\n",
        "    def __init__(self, mean, std):\n",
        "        self.mean = mean\n",
        "        self.std = std\n",
        "\n",
        "    def __call__(self, tensor):\n",
        "        noise = tensor.new().resize_as_(tensor).normal_(self.mean, self.std)\n",
        "        return tensor + noise\n",
        "\n",
        "data_transform = transforms.Compose([transforms.RandomHorizontalFlip(), RandomGaussianNoise(0, 0.05)])"
      ],
      "metadata": {
        "id": "2sPlB7xg2s2b"
      },
      "execution_count": 18,
      "outputs": []
    },
    {
      "cell_type": "code",
      "source": [
        "# Create the custom datasets\n",
        "train_dataset = MNIST_Dataset(X_train, y_train, transform=data_transform)\n",
        "test_dataset = MNIST_Dataset(X_test, y_test)"
      ],
      "metadata": {
        "id": "zqMxfAFm5xbW"
      },
      "execution_count": 10,
      "outputs": []
    },
    {
      "cell_type": "code",
      "source": [
        "# Define the dataloaders\n",
        "train_loader = DataLoader(train_dataset, batch_size=100, shuffle=True)\n",
        "test_loader = DataLoader(test_dataset, batch_size=100, shuffle=False)"
      ],
      "metadata": {
        "id": "s6CR4A9Q50Yi"
      },
      "execution_count": 11,
      "outputs": []
    },
    {
      "cell_type": "code",
      "source": [
        "# Define the weight initialization function\n",
        "def weights_init(m):\n",
        "    if isinstance(m, nn.Conv2d):\n",
        "        nn.init.xavier_normal_(m.weight)"
      ],
      "metadata": {
        "id": "Sqgv0LLH53Uw"
      },
      "execution_count": 12,
      "outputs": []
    },
    {
      "cell_type": "code",
      "source": [
        "# Define the CNN model\n",
        "class CNN(nn.Module):\n",
        "    def __init__(self):\n",
        "        super(CNN, self).__init__()\n",
        "        self.conv1 = nn.Conv2d\n",
        "        self.conv1 = nn.Conv2d(in_channels=1, out_channels=8, kernel_size=3, padding=1)\n",
        "        self.pool1 = nn.AvgPool2d(kernel_size=2, stride=2)\n",
        "        self.conv2 = nn.Conv2d(in_channels=8, out_channels=16, kernel_size=3, padding=1)\n",
        "        self.pool2 = nn.AvgPool2d(kernel_size=2, stride=2)\n",
        "        self.conv3 = nn.Conv2d(in_channels=16, out_channels=32, kernel_size=3, padding=1)\n",
        "        self.fc1 = nn.Linear(in_features=7 * 7 * 32, out_features=512)\n",
        "        #self.fc2 = nn.Linear(in_features=512, out_features=5)\n",
        "        \n",
        "    def forward(self, x):\n",
        "        x = torch.unsqueeze(x, dim=1)\n",
        "        x = self.conv1(x)\n",
        "        x = torch.relu(x)\n",
        "        x = self.pool1(x)\n",
        "        x = self.conv2(x)\n",
        "        x = torch.relu(x)\n",
        "        x = self.pool2(x)\n",
        "        x = self.conv3(x)\n",
        "        x = torch.relu(x)\n",
        "        x = x.view(-1, 7 * 7 * 32)\n",
        "        x = self.fc1(x)\n",
        "        x = torch.relu(x)\n",
        "        #x = self.fc2(x)\n",
        "        return x"
      ],
      "metadata": {
        "id": "QZpz7IVC594N"
      },
      "execution_count": 13,
      "outputs": []
    },
    {
      "cell_type": "code",
      "source": [
        "# Initialize the model and set the optimizer\n",
        "model = CNN()\n",
        "model.apply(weights_init)"
      ],
      "metadata": {
        "colab": {
          "base_uri": "https://localhost:8080/"
        },
        "id": "iapUXbLJ6BQP",
        "outputId": "9d7195ba-d3d6-43fc-8935-83d867eecac3"
      },
      "execution_count": 14,
      "outputs": [
        {
          "output_type": "execute_result",
          "data": {
            "text/plain": [
              "CNN(\n",
              "  (conv1): Conv2d(1, 8, kernel_size=(3, 3), stride=(1, 1), padding=(1, 1))\n",
              "  (pool1): AvgPool2d(kernel_size=2, stride=2, padding=0)\n",
              "  (conv2): Conv2d(8, 16, kernel_size=(3, 3), stride=(1, 1), padding=(1, 1))\n",
              "  (pool2): AvgPool2d(kernel_size=2, stride=2, padding=0)\n",
              "  (conv3): Conv2d(16, 32, kernel_size=(3, 3), stride=(1, 1), padding=(1, 1))\n",
              "  (fc1): Linear(in_features=1568, out_features=512, bias=True)\n",
              ")"
            ]
          },
          "metadata": {},
          "execution_count": 14
        }
      ]
    },
    {
      "cell_type": "code",
      "source": [
        "optimizer = optim.SGD(model.parameters(), lr=0.001, momentum=0.9)\n",
        "criterion = nn.CrossEntropyLoss()"
      ],
      "metadata": {
        "id": "oUVMUwYs6Fia"
      },
      "execution_count": 15,
      "outputs": []
    },
    {
      "cell_type": "code",
      "source": [
        "# Train the model\n",
        "for epoch in range(10):\n",
        "    running_loss = 0.0\n",
        "    for i, data in enumerate(train_loader, 0):\n",
        "        inputs, labels = data\n",
        "        optimizer.zero_grad()\n",
        "        outputs = model(inputs)\n",
        "        loss = criterion(outputs, labels)\n",
        "        loss.backward()\n",
        "        optimizer.step()\n",
        "        running_loss += loss.item()\n",
        "    print('Epoch %d loss: %.3f' % (epoch + 1, running_loss / (i + 1)))\n",
        "print('Finished training')"
      ],
      "metadata": {
        "colab": {
          "base_uri": "https://localhost:8080/"
        },
        "id": "bc7KAIrl6KOU",
        "outputId": "11ae4b52-3646-4559-f788-e297ac7a071c"
      },
      "execution_count": 16,
      "outputs": [
        {
          "output_type": "stream",
          "name": "stdout",
          "text": [
            "Epoch 1 loss: 0.357\n",
            "Epoch 2 loss: 0.125\n",
            "Epoch 3 loss: 0.091\n",
            "Epoch 4 loss: 0.070\n",
            "Epoch 5 loss: 0.060\n",
            "Epoch 6 loss: 0.054\n",
            "Epoch 7 loss: 0.048\n",
            "Epoch 8 loss: 0.040\n",
            "Epoch 9 loss: 0.041\n",
            "Epoch 10 loss: 0.036\n",
            "Finished training\n"
          ]
        }
      ]
    },
    {
      "cell_type": "code",
      "execution_count": 17,
      "metadata": {
        "colab": {
          "base_uri": "https://localhost:8080/"
        },
        "id": "SGEckBa41jK4",
        "outputId": "a7bee2bd-a46a-40ca-a2b1-5863ec5db837"
      },
      "outputs": [
        {
          "output_type": "stream",
          "name": "stdout",
          "text": [
            "Accuracy of the network on the test images: 98 %\n"
          ]
        }
      ],
      "source": [
        "# Test the model\n",
        "correct = 0\n",
        "total = 0\n",
        "with torch.no_grad():\n",
        "    for data in test_loader:\n",
        "        images, labels = data\n",
        "        outputs = model(images)\n",
        "        _, predicted = torch.max(outputs.data, 1)\n",
        "        total += labels.size(0)\n",
        "        correct += (predicted == labels).sum().item()\n",
        "print('Accuracy of the network on the test images: %d %%' % (100 * correct / total))"
      ]
    }
  ]
}